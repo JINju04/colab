{
  "nbformat": 4,
  "nbformat_minor": 0,
  "metadata": {
    "colab": {
      "name": "Lession5.ipynb",
      "provenance": [],
      "authorship_tag": "ABX9TyNUJjcSTwl39eHsY8O00h/9",
      "include_colab_link": true
    },
    "kernelspec": {
      "name": "python3",
      "display_name": "Python 3"
    },
    "language_info": {
      "name": "python"
    }
  },
  "cells": [
    {
      "cell_type": "markdown",
      "metadata": {
        "id": "view-in-github",
        "colab_type": "text"
      },
      "source": [
        "<a href=\"https://colab.research.google.com/github/JINju04/colab/blob/main/Lession5.ipynb\" target=\"_parent\"><img src=\"https://colab.research.google.com/assets/colab-badge.svg\" alt=\"Open In Colab\"/></a>"
      ]
    },
    {
      "cell_type": "markdown",
      "source": [
        "5장 예제 1"
      ],
      "metadata": {
        "id": "7fpMkqsCQJTT"
      }
    },
    {
      "cell_type": "code",
      "execution_count": null,
      "metadata": {
        "colab": {
          "base_uri": "https://localhost:8080/"
        },
        "id": "2phLyoXRQFM1",
        "outputId": "9b943c3d-881f-4a86-d5e7-c48991d0d7c1"
      },
      "outputs": [
        {
          "output_type": "stream",
          "name": "stdout",
          "text": [
            "100보다 작습니다.\n"
          ]
        }
      ],
      "source": [
        "num = 99\n",
        "if num < 100 :\n",
        "  print(\"100보다 작습니다.\")"
      ]
    },
    {
      "cell_type": "markdown",
      "source": [
        "홀수 짝수"
      ],
      "metadata": {
        "id": "MlpPx79cRA48"
      }
    },
    {
      "cell_type": "code",
      "source": [
        "num = int(input(\"정수를 입력 : \"))\n",
        "\n",
        "if (num % 2)==0 :\n",
        "  print(num, \"짝수입니다.\")\n",
        "\n",
        "if (num % 2)==1 :\n",
        "  print(num, \"홀수입니다.\")"
      ],
      "metadata": {
        "colab": {
          "base_uri": "https://localhost:8080/"
        },
        "id": "En745gugRCjV",
        "outputId": "b00a4505-f99d-44a1-d3e9-910e6616678e"
      },
      "execution_count": null,
      "outputs": [
        {
          "output_type": "stream",
          "name": "stdout",
          "text": [
            "정수를 입력 : 8\n",
            "8 짝수입니다.\n"
          ]
        }
      ]
    },
    {
      "cell_type": "code",
      "source": [
        "num = int(input(\"정수를 입력 : \"))\n",
        "if (num % 2) == 0 :\n",
        "  print(num, \"짝수입니다.\")\n",
        "else :\n",
        "  print(num, \"홀수입니다.\")"
      ],
      "metadata": {
        "colab": {
          "base_uri": "https://localhost:8080/"
        },
        "id": "aMkeodKSSU0B",
        "outputId": "b77f034c-f688-4780-be5f-17c2f1bc2db9"
      },
      "execution_count": 1,
      "outputs": [
        {
          "output_type": "stream",
          "name": "stdout",
          "text": [
            "정수를 입력 : 30\n",
            "30 짝수입니다.\n"
          ]
        }
      ]
    },
    {
      "cell_type": "markdown",
      "source": [
        "랜덤 함수\n",
        "import random"
      ],
      "metadata": {
        "id": "SW5uEDt7UHDp"
      }
    },
    {
      "cell_type": "code",
      "source": [
        "import random\n",
        "\n",
        "com_number = random.randint(1,45)\n",
        "print(\"** 컴퓨터가 생각한 숫자를 맞추는 게임 **\")\n",
        "print(\"숫자는 1부터 45까지입니다.\")\n",
        "while com_number != user_number : \n",
        "  user_number = int(input(\"숫자를 입력 :\"))\n",
        "  if com_number > user_number :\n",
        "    print(\"입력한 숫자가 작습니다.\")\n",
        "  elif com_number < user_number :\n",
        "    print(\"입력한 숫자가 더 큽니다.\")33\n",
        "  else :\n",
        "    print(\"정답^^\")"
      ],
      "metadata": {
        "colab": {
          "base_uri": "https://localhost:8080/",
          "height": 137
        },
        "id": "2NjYXa7yT4No",
        "outputId": "8206f2fa-8ec7-4e14-c72a-4ba4a6be8960"
      },
      "execution_count": 14,
      "outputs": [
        {
          "output_type": "error",
          "ename": "SyntaxError",
          "evalue": "ignored",
          "traceback": [
            "\u001b[0;36m  File \u001b[0;32m\"<ipython-input-14-573a93fd91a8>\"\u001b[0;36m, line \u001b[0;32m11\u001b[0m\n\u001b[0;31m    print(\"입력한 숫자가 더 큽니다.\")33\u001b[0m\n\u001b[0m                            ^\u001b[0m\n\u001b[0;31mSyntaxError\u001b[0m\u001b[0;31m:\u001b[0m invalid syntax\n"
          ]
        }
      ]
    },
    {
      "cell_type": "markdown",
      "source": [
        "가위바위보 게임\n"
      ],
      "metadata": {
        "id": "GVD70XEQW61X"
      }
    },
    {
      "cell_type": "code",
      "source": [
        "import random\n",
        "print(\"** 가위 바위 보 게임 **\")\n",
        "count = 7\n",
        "while count > 0 :\n",
        "  com_player = random.choice([\"가위\", \"바위\", \"보\"])\n",
        "  user_player = input(\"가위/바위/보 중 하나를 입력하세요 ==>\")\n",
        "  if (com_player == user_player) :\n",
        "    print(\"비겼다.\")\n",
        "  elif ((com_player == \"가위\") and (user_player == \"바위\")) or \\\n",
        "  ((com_player == \"보\") and (user_player == 보)) or \\\n",
        "  ((com_player))"
      ],
      "metadata": {
        "colab": {
          "base_uri": "https://localhost:8080/",
          "height": 248
        },
        "id": "MU8fdks7W9TX",
        "outputId": "c3ccdc01-3e4c-4462-d856-78fb72a10b5f"
      },
      "execution_count": 13,
      "outputs": [
        {
          "output_type": "stream",
          "name": "stdout",
          "text": [
            "** 가위 바위 보 게임 **\n"
          ]
        },
        {
          "output_type": "error",
          "ename": "NameError",
          "evalue": "ignored",
          "traceback": [
            "\u001b[0;31m---------------------------------------------------------------------------\u001b[0m",
            "\u001b[0;31mNameError\u001b[0m                                 Traceback (most recent call last)",
            "\u001b[0;32m<ipython-input-13-dcdd0b8c885f>\u001b[0m in \u001b[0;36m<module>\u001b[0;34m\u001b[0m\n\u001b[1;32m      2\u001b[0m \u001b[0mcom_player\u001b[0m \u001b[0;34m=\u001b[0m \u001b[0mrandom\u001b[0m\u001b[0;34m.\u001b[0m\u001b[0mchoice\u001b[0m\u001b[0;34m(\u001b[0m\u001b[0;34m[\u001b[0m\u001b[0;34m\"가위\"\u001b[0m\u001b[0;34m,\u001b[0m\u001b[0;34m\"바위\"\u001b[0m\u001b[0;34m,\u001b[0m\u001b[0;34m\"보\"\u001b[0m\u001b[0;34m]\u001b[0m\u001b[0;34m)\u001b[0m\u001b[0;34m\u001b[0m\u001b[0;34m\u001b[0m\u001b[0m\n\u001b[1;32m      3\u001b[0m \u001b[0mprint\u001b[0m\u001b[0;34m(\u001b[0m\u001b[0;34m\"** 가위 바위 보 게임 **\"\u001b[0m\u001b[0;34m)\u001b[0m\u001b[0;34m\u001b[0m\u001b[0;34m\u001b[0m\u001b[0m\n\u001b[0;32m----> 4\u001b[0;31m \u001b[0muser_player\u001b[0m \u001b[0;34m=\u001b[0m \u001b[0mimput\u001b[0m\u001b[0;34m(\u001b[0m\u001b[0;34m\"가위/바위/보 중 하나를 입력하세여 ==> \"\u001b[0m\u001b[0;34m)\u001b[0m\u001b[0;34m\u001b[0m\u001b[0;34m\u001b[0m\u001b[0m\n\u001b[0m\u001b[1;32m      5\u001b[0m \u001b[0mprint\u001b[0m\u001b[0;34m(\u001b[0m\u001b[0mcom_player\u001b[0m\u001b[0;34m,\u001b[0m \u001b[0muser_player\u001b[0m\u001b[0;34m)\u001b[0m\u001b[0;34m\u001b[0m\u001b[0;34m\u001b[0m\u001b[0m\n",
            "\u001b[0;31mNameError\u001b[0m: name 'imput' is not defined"
          ]
        }
      ]
    }
  ]
}