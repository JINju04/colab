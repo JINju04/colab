{
  "nbformat": 4,
  "nbformat_minor": 0,
  "metadata": {
    "colab": {
      "provenance": [],
      "authorship_tag": "ABX9TyN9W7Bjt1qx0dzf53spsm8o",
      "include_colab_link": true
    },
    "kernelspec": {
      "name": "python3",
      "display_name": "Python 3"
    },
    "language_info": {
      "name": "python"
    }
  },
  "cells": [
    {
      "cell_type": "markdown",
      "metadata": {
        "id": "view-in-github",
        "colab_type": "text"
      },
      "source": [
        "<a href=\"https://colab.research.google.com/github/JINju04/colab/blob/main/Lession5.ipynb\" target=\"_parent\"><img src=\"https://colab.research.google.com/assets/colab-badge.svg\" alt=\"Open In Colab\"/></a>"
      ]
    },
    {
      "cell_type": "markdown",
      "source": [
        "5장 예제 1"
      ],
      "metadata": {
        "id": "7fpMkqsCQJTT"
      }
    },
    {
      "cell_type": "code",
      "execution_count": null,
      "metadata": {
        "colab": {
          "base_uri": "https://localhost:8080/"
        },
        "id": "2phLyoXRQFM1",
        "outputId": "9b943c3d-881f-4a86-d5e7-c48991d0d7c1"
      },
      "outputs": [
        {
          "output_type": "stream",
          "name": "stdout",
          "text": [
            "100보다 작습니다.\n"
          ]
        }
      ],
      "source": [
        "num = 99\n",
        "if num < 100 :\n",
        "  print(\"100보다 작습니다.\")"
      ]
    },
    {
      "cell_type": "markdown",
      "source": [
        "홀수 짝수"
      ],
      "metadata": {
        "id": "MlpPx79cRA48"
      }
    },
    {
      "cell_type": "code",
      "source": [
        "num = int(input(\"정수를 입력 : \"))\n",
        "\n",
        "if (num % 2)==0 :\n",
        "  print(num, \"짝수입니다.\")\n",
        "\n",
        "if (num % 2)==1 :\n",
        "  print(num, \"홀수입니다.\")"
      ],
      "metadata": {
        "colab": {
          "base_uri": "https://localhost:8080/"
        },
        "id": "En745gugRCjV",
        "outputId": "b00a4505-f99d-44a1-d3e9-910e6616678e"
      },
      "execution_count": null,
      "outputs": [
        {
          "output_type": "stream",
          "name": "stdout",
          "text": [
            "정수를 입력 : 8\n",
            "8 짝수입니다.\n"
          ]
        }
      ]
    },
    {
      "cell_type": "code",
      "source": [
        "num = int(input(\"정수를 입력 : \"))\n",
        "if (num % 2) == 0 :\n",
        "  print(num, \"짝수입니다.\")\n",
        "else :\n",
        "  print(num, \"홀수입니다.\")"
      ],
      "metadata": {
        "colab": {
          "base_uri": "https://localhost:8080/"
        },
        "id": "aMkeodKSSU0B",
        "outputId": "b77f034c-f688-4780-be5f-17c2f1bc2db9"
      },
      "execution_count": null,
      "outputs": [
        {
          "output_type": "stream",
          "name": "stdout",
          "text": [
            "정수를 입력 : 30\n",
            "30 짝수입니다.\n"
          ]
        }
      ]
    },
    {
      "cell_type": "markdown",
      "source": [
        "랜덤 함수\n",
        "import random"
      ],
      "metadata": {
        "id": "SW5uEDt7UHDp"
      }
    },
    {
      "cell_type": "code",
      "source": [
        "import random\n",
        "\n",
        "com_number = random.randint(1,45)\n",
        "print(\"** 컴퓨터가 생각한 숫자를 맞추는 게임 **\")\n",
        "print(\"숫자는 1부터 45까지입니다.\")\n",
        "while com_number != user_number : \n",
        "  user_number = int(input(\"숫자를 입력 :\"))\n",
        "  if com_number > user_number :\n",
        "    print(\"입력한 숫자가 작습니다.\")\n",
        "  elif com_number < user_number :\n",
        "    print(\"입력한 숫자가 더 큽니다.\")33\n",
        "  else :\n",
        "    print(\"정답^^\")"
      ],
      "metadata": {
        "colab": {
          "base_uri": "https://localhost:8080/"
        },
        "id": "2NjYXa7yT4No",
        "outputId": "496dee58-47cd-4017-c691-5a3e31eaa62e"
      },
      "execution_count": null,
      "outputs": [
        {
          "output_type": "stream",
          "name": "stdout",
          "text": [
            "** 컴퓨터가 생각한 숫자를 맞추는 게임 **\n",
            "숫자는 1부터 45까지입니다.\n",
            "숫자를 입력 :40\n",
            "입력한 숫자가 더 큽니다.\n",
            "숫자를 입력 :30\n",
            "입력한 숫자가 작습니다.\n",
            "숫자를 입력 :35\n",
            "입력한 숫자가 더 큽니다.\n",
            "숫자를 입력 :38\n",
            "입력한 숫자가 더 큽니다.\n",
            "숫자를 입력 :34\n",
            "입력한 숫자가 더 큽니다.\n",
            "숫자를 입력 :32\n",
            "입력한 숫자가 작습니다.\n",
            "숫자를 입력 :31\n",
            "입력한 숫자가 작습니다.\n",
            "숫자를 입력 :1\n",
            "입력한 숫자가 작습니다.\n",
            "숫자를 입력 :40\n",
            "입력한 숫자가 더 큽니다.\n",
            "숫자를 입력 :39\n",
            "입력한 숫자가 더 큽니다.\n",
            "숫자를 입력 :38\n",
            "입력한 숫자가 더 큽니다.\n",
            "숫자를 입력 :37\n",
            "입력한 숫자가 더 큽니다.\n",
            "숫자를 입력 :36\n",
            "입력한 숫자가 더 큽니다.\n",
            "숫자를 입력 :35\n",
            "입력한 숫자가 더 큽니다.\n",
            "숫자를 입력 :34\n",
            "입력한 숫자가 더 큽니다.\n",
            "숫자를 입력 :33\n",
            "정답^^\n"
          ]
        }
      ]
    },
    {
      "cell_type": "markdown",
      "source": [
        "가위바위보 게임\n"
      ],
      "metadata": {
        "id": "GVD70XEQW61X"
      }
    },
    {
      "cell_type": "code",
      "source": [
        "import random\n",
        "\n",
        "myHand = input(\"나의 가위/바위/보 ==>\")\n",
        "comHand = random.choice([\"가위\", \"바위\", \"보\"])\n",
        "print(\"컴퓨터의 가위/바위/보 ==>\", comHand)\n",
        "\n",
        "if myHand == comHand :\n",
        "  print(\"비겼습니다. --.--\")\n",
        "\n",
        "elif (myHand == \"가위\" and comHand == \"보\") or \\\n",
        "     (myHand == \"바위\" and comHand == \"가위\") or \\\n",
        "     (myHand == \"보\" and comHand == \"바위\") :\n",
        "     print(\"이겼습니다. ^^\")\n",
        "else : \n",
        "  print(\"졌습니다. ㅠㅠ\")"
      ],
      "metadata": {
        "colab": {
          "base_uri": "https://localhost:8080/"
        },
        "id": "MU8fdks7W9TX",
        "outputId": "89e62bac-0258-42c7-acfd-588cd5ebb5f5"
      },
      "execution_count": null,
      "outputs": [
        {
          "output_type": "stream",
          "name": "stdout",
          "text": [
            "나의 가위/바위/보 ==>가위\n",
            "컴퓨터의 가위/바위/보 ==> 보\n",
            "이겼습니다. ^^\n"
          ]
        }
      ]
    },
    {
      "cell_type": "markdown",
      "source": [],
      "metadata": {
        "id": "Q2ztAg08LZJE"
      }
    },
    {
      "cell_type": "markdown",
      "source": [
        "형성평가1"
      ],
      "metadata": {
        "id": "0IaZsPweMMwj"
      }
    },
    {
      "cell_type": "code",
      "source": [
        "num = int(input(\"숫자를 입력 ==> \"))\n",
        "\n",
        "if num > 100 :\n",
        "  if num < 1000 :\n",
        "    print(\"100보다 크고 1000보다 작군요.\")\n",
        "  else :\n",
        "    print(\"와~ 1000보다 크군요.\")\n",
        "else : \n",
        "  print(\"음~ 100보다 작군요.\")"
      ],
      "metadata": {
        "colab": {
          "base_uri": "https://localhost:8080/"
        },
        "id": "o2l-3ibIMN-s",
        "outputId": "95d98bbb-274c-44a4-84ec-ec78716c6f7d"
      },
      "execution_count": null,
      "outputs": [
        {
          "output_type": "stream",
          "name": "stdout",
          "text": [
            "숫자를 입력 ==> 110\n",
            "100보다 크고 1000보다 작군요.\n"
          ]
        }
      ]
    },
    {
      "cell_type": "markdown",
      "source": [
        "형성평가 2"
      ],
      "metadata": {
        "id": "7pG0_xxsNrQz"
      }
    },
    {
      "cell_type": "code",
      "source": [
        "score = int(input(\"점수를 입력 ==> \"))\n",
        "\n",
        "if score >= 90 :\n",
        "  print(\"A\", end = '')\n",
        "else :\n",
        "  if score >= 80 :\n",
        "    print(\"B\", end = '')\n",
        "  else : \n",
        "    if score >= 70 :\n",
        "      print(\"C\", end = '')\n",
        "    else :\n",
        "      if score >= 60 :\n",
        "        print(\"D\", end = '')\n",
        "      else : \n",
        "        print(\"F\", end = '')\n",
        "print(\"학점입니다.\")"
      ],
      "metadata": {
        "colab": {
          "base_uri": "https://localhost:8080/"
        },
        "id": "0wt2y8aTNs20",
        "outputId": "8b912d63-7525-4e64-dbe1-40266b026259"
      },
      "execution_count": null,
      "outputs": [
        {
          "output_type": "stream",
          "name": "stdout",
          "text": [
            "점수를 입력 ==> 90\n",
            "A학점입니다.\n"
          ]
        }
      ]
    },
    {
      "cell_type": "code",
      "source": [
        "score = int(input(\"점수를 입력 ==>\"))\n",
        "\n",
        "if score >= 90 :\n",
        "  print(\"A\", end = '')\n",
        "elif score >= 80 :\n",
        "  print(\"B\", end = '')\n",
        "elif score >= 70  :\n",
        "  print(\"C\", end = '')\n",
        "elif score >= 60 :\n",
        "  print(\"D\", end = '')\n",
        "else :\n",
        "  print(\"F\", end = '')\n",
        "  print(\"학점입니다.\")"
      ],
      "metadata": {
        "colab": {
          "base_uri": "https://localhost:8080/"
        },
        "id": "INb18G_rPgV6",
        "outputId": "5923381f-b3bb-4a75-dfe6-713db9c87394"
      },
      "execution_count": null,
      "outputs": [
        {
          "output_type": "stream",
          "name": "stdout",
          "text": [
            "점수를 입력 ==>100\n",
            "A"
          ]
        }
      ]
    },
    {
      "cell_type": "markdown",
      "source": [
        "형성평가 피씨방(수행유력)"
      ],
      "metadata": {
        "id": "b9e5T2-_Q-Ak"
      }
    },
    {
      "cell_type": "code",
      "source": [
        "age = int(input(\"나이를 입력 ==> \"))\n",
        "\n",
        "if age >= 18 :\n",
        "  print(\"즐거운 시간 되세요 ^^\")\n",
        "else :\n",
        "  print(\"집에 갈 시간이네요!\")\n",
        "\n",
        "print(\"협조 감사합니다.\")"
      ],
      "metadata": {
        "colab": {
          "base_uri": "https://localhost:8080/"
        },
        "id": "z0qANkijRAby",
        "outputId": "1552409c-1eff-49a8-c2d1-4250e9835539"
      },
      "execution_count": null,
      "outputs": [
        {
          "output_type": "stream",
          "name": "stdout",
          "text": [
            "나이를 입력 ==> 80\n",
            "즐거운 시간 되세요 ^^\n",
            "협조 감사합니다.\n"
          ]
        }
      ]
    },
    {
      "cell_type": "markdown",
      "source": [
        "사춘기 거북이를 지도하기"
      ],
      "metadata": {
        "id": "0EaWlrpCPPBa"
      }
    },
    {
      "cell_type": "code",
      "source": [
        "#!pip3 install ColabTurtle\n",
        "import ColabTurtle.Turtle as turtle\n",
        "import random\n",
        "print(turtle.DEFAULT_WINDOW_SIZE)\n",
        "turtle.initializeTurtle()\n",
        "\n",
        "while True :\n",
        "  turtle.left(random.randint(0,360))\n",
        "  turtle.forward(random.randint(100,200))\n",
        "  if 800 <= turtle.getx() or turtle.getx() <= 0 or \\\n",
        "  500 <= turtle.getx() or turtle.gety() <=0:\n",
        "    turtle.goto(400,250)\n",
        " \n"
      ],
      "metadata": {
        "colab": {
          "base_uri": "https://localhost:8080/",
          "height": 901
        },
        "id": "XLmR5XQ8ibS5",
        "outputId": "63e10365-bc93-4615-ebfa-4746e35da383"
      },
      "execution_count": null,
      "outputs": [
        {
          "output_type": "stream",
          "name": "stdout",
          "text": [
            "(800, 500)\n"
          ]
        },
        {
          "output_type": "display_data",
          "data": {
            "text/plain": [
              "<IPython.core.display.HTML object>"
            ],
            "text/html": [
              "\n",
              "      <svg width=\"800\" height=\"500\">\n",
              "        <rect width=\"100%\" height=\"100%\" fill=\"black\"/>\n",
              "        <line x1=\"400\" y1=\"250\" x2=\"349.723\" y2=\"388.135\" stroke-linecap=\"round\" style=\"stroke:white;stroke-width:4\"/><line x1=\"349.723\" y1=\"388.135\" x2=\"502.314\" y2=\"420.569\" stroke-linecap=\"round\" style=\"stroke:white;stroke-width:4\"/><line x1=\"502.314\" y1=\"420.569\" x2=\"400\" y2=\"250\" stroke-linecap=\"round\" style=\"stroke:white;stroke-width:4\"/><line x1=\"400\" y1=\"250\" x2=\"308.593\" y2=\"167.697\" stroke-linecap=\"round\" style=\"stroke:white;stroke-width:4\"/><line x1=\"308.593\" y1=\"167.697\" x2=\"247.092\" y2=\"52.031\" stroke-linecap=\"round\" style=\"stroke:white;stroke-width:4\"/><line x1=\"247.092\" y1=\"52.031\" x2=\"349.423\" y2=\"-4.692\" stroke-linecap=\"round\" style=\"stroke:white;stroke-width:4\"/><line x1=\"349.423\" y1=\"-4.692\" x2=\"400\" y2=\"250\" stroke-linecap=\"round\" style=\"stroke:white;stroke-width:4\"/><line x1=\"400\" y1=\"250\" x2=\"369.76\" y2=\"371.287\" stroke-linecap=\"round\" style=\"stroke:white;stroke-width:4\"/><line x1=\"369.76\" y1=\"371.287\" x2=\"446.792\" y2=\"269.062\" stroke-linecap=\"round\" style=\"stroke:white;stroke-width:4\"/><line x1=\"446.792\" y1=\"269.062\" x2=\"544.952\" y2=\"133.956\" stroke-linecap=\"round\" style=\"stroke:white;stroke-width:4\"/><line x1=\"544.952\" y1=\"133.956\" x2=\"400\" y2=\"250\" stroke-linecap=\"round\" style=\"stroke:white;stroke-width:4\"/><line x1=\"400\" y1=\"250\" x2=\"259.244\" y2=\"204.265\" stroke-linecap=\"round\" style=\"stroke:white;stroke-width:4\"/><line x1=\"259.244\" y1=\"204.265\" x2=\"173.595\" y2=\"299.388\" stroke-linecap=\"round\" style=\"stroke:white;stroke-width:4\"/><line x1=\"173.595\" y1=\"299.388\" x2=\"33.834\" y2=\"194.07\" stroke-linecap=\"round\" style=\"stroke:white;stroke-width:4\"/><line x1=\"33.834\" y1=\"194.07\" x2=\"-160.173\" y2=\"159.861\" stroke-linecap=\"round\" style=\"stroke:white;stroke-width:4\"/><line x1=\"-160.173\" y1=\"159.861\" x2=\"400\" y2=\"250\" stroke-linecap=\"round\" style=\"stroke:white;stroke-width:4\"/><line x1=\"400\" y1=\"250\" x2=\"274.368\" y2=\"185.987\" stroke-linecap=\"round\" style=\"stroke:white;stroke-width:4\"/><line x1=\"274.368\" y1=\"185.987\" x2=\"294.704\" y2=\"314.386\" stroke-linecap=\"round\" style=\"stroke:white;stroke-width:4\"/><line x1=\"294.704\" y1=\"314.386\" x2=\"144.7\" y2=\"224.254\" stroke-linecap=\"round\" style=\"stroke:white;stroke-width:4\"/><line x1=\"144.7\" y1=\"224.254\" x2=\"304.342\" y2=\"162.973\" stroke-linecap=\"round\" style=\"stroke:white;stroke-width:4\"/><line x1=\"304.342\" y1=\"162.973\" x2=\"163.566\" y2=\"250.94\" stroke-linecap=\"round\" style=\"stroke:white;stroke-width:4\"/><line x1=\"163.566\" y1=\"250.94\" x2=\"128.839\" y2=\"429.596\" stroke-linecap=\"round\" style=\"stroke:white;stroke-width:4\"/><line x1=\"128.839\" y1=\"429.596\" x2=\"275.736\" y2=\"411.559\" stroke-linecap=\"round\" style=\"stroke:white;stroke-width:4\"/><line x1=\"275.736\" y1=\"411.559\" x2=\"144.076\" y2=\"358.365\" stroke-linecap=\"round\" style=\"stroke:white;stroke-width:4\"/><line x1=\"144.076\" y1=\"358.365\" x2=\"276.518\" y2=\"428.786\" stroke-linecap=\"round\" style=\"stroke:white;stroke-width:4\"/><line x1=\"276.518\" y1=\"428.786\" x2=\"206.577\" y2=\"264.016\" stroke-linecap=\"round\" style=\"stroke:white;stroke-width:4\"/><line x1=\"206.577\" y1=\"264.016\" x2=\"347.688\" y2=\"332.84\" stroke-linecap=\"round\" style=\"stroke:white;stroke-width:4\"/><line x1=\"347.688\" y1=\"332.84\" x2=\"330.709\" y2=\"212.027\" stroke-linecap=\"round\" style=\"stroke:white;stroke-width:4\"/><line x1=\"330.709\" y1=\"212.027\" x2=\"267.15\" y2=\"336.768\" stroke-linecap=\"round\" style=\"stroke:white;stroke-width:4\"/><line x1=\"267.15\" y1=\"336.768\" x2=\"273.483\" y2=\"215.934\" stroke-linecap=\"round\" style=\"stroke:white;stroke-width:4\"/><line x1=\"273.483\" y1=\"215.934\" x2=\"152.112\" y2=\"355.555\" stroke-linecap=\"round\" style=\"stroke:white;stroke-width:4\"/><line x1=\"152.112\" y1=\"355.555\" x2=\"127.082\" y2=\"197.525\" stroke-linecap=\"round\" style=\"stroke:white;stroke-width:4\"/><line x1=\"127.082\" y1=\"197.525\" x2=\"261.524\" y2=\"143.207\" stroke-linecap=\"round\" style=\"stroke:white;stroke-width:4\"/><line x1=\"261.524\" y1=\"143.207\" x2=\"443.259\" y2=\"171.991\" stroke-linecap=\"round\" style=\"stroke:white;stroke-width:4\"/><line x1=\"443.259\" y1=\"171.991\" x2=\"353.788\" y2=\"39.345\" stroke-linecap=\"round\" style=\"stroke:white;stroke-width:4\"/><line x1=\"353.788\" y1=\"39.345\" x2=\"308.236\" y2=\"209.348\" stroke-linecap=\"round\" style=\"stroke:white;stroke-width:4\"/><line x1=\"308.236\" y1=\"209.348\" x2=\"431.273\" y2=\"86.311\" stroke-linecap=\"round\" style=\"stroke:white;stroke-width:4\"/><line x1=\"431.273\" y1=\"86.311\" x2=\"525.652\" y2=\"171.291\" stroke-linecap=\"round\" style=\"stroke:white;stroke-width:4\"/><line x1=\"525.652\" y1=\"171.291\" x2=\"400\" y2=\"250\" stroke-linecap=\"round\" style=\"stroke:white;stroke-width:4\"/><line x1=\"400\" y1=\"250\" x2=\"477.085\" y2=\"389.065\" stroke-linecap=\"round\" style=\"stroke:white;stroke-width:4\"/><line x1=\"477.085\" y1=\"389.065\" x2=\"595.83\" y2=\"338.661\" stroke-linecap=\"round\" style=\"stroke:white;stroke-width:4\"/><line x1=\"595.83\" y1=\"338.661\" x2=\"400\" y2=\"250\" stroke-linecap=\"round\" style=\"stroke:white;stroke-width:4\"/><line x1=\"400\" y1=\"250\" x2=\"566.593\" y2=\"261.649\" stroke-linecap=\"round\" style=\"stroke:white;stroke-width:4\"/><line x1=\"566.593\" y1=\"261.649\" x2=\"400\" y2=\"250\" stroke-linecap=\"round\" style=\"stroke:white;stroke-width:4\"/><line x1=\"400\" y1=\"250\" x2=\"348.394\" y2=\"408.826\" stroke-linecap=\"round\" style=\"stroke:white;stroke-width:4\"/><line x1=\"348.394\" y1=\"408.826\" x2=\"473.882\" y2=\"543.395\" stroke-linecap=\"round\" style=\"stroke:white;stroke-width:4\"/><line x1=\"473.882\" y1=\"543.395\" x2=\"574.157\" y2=\"423.892\" stroke-linecap=\"round\" style=\"stroke:white;stroke-width:4\"/><line x1=\"574.157\" y1=\"423.892\" x2=\"400\" y2=\"250\" stroke-linecap=\"round\" style=\"stroke:white;stroke-width:4\"/><line x1=\"400\" y1=\"250\" x2=\"496.167\" y2=\"346.167\" stroke-linecap=\"round\" style=\"stroke:white;stroke-width:4\"/><line x1=\"496.167\" y1=\"346.167\" x2=\"448.75\" y2=\"536.345\" stroke-linecap=\"round\" style=\"stroke:white;stroke-width:4\"/><line x1=\"448.75\" y1=\"536.345\" x2=\"376.857\" y2=\"683.747\" stroke-linecap=\"round\" style=\"stroke:white;stroke-width:4\"/><line x1=\"376.857\" y1=\"683.747\" x2=\"417.557\" y2=\"795.57\" stroke-linecap=\"round\" style=\"stroke:white;stroke-width:4\"/><line x1=\"417.557\" y1=\"795.57\" x2=\"410.233\" y2=\"900.314\" stroke-linecap=\"round\" style=\"stroke:white;stroke-width:4\"/><line x1=\"410.233\" y1=\"900.314\" x2=\"523.023\" y2=\"970.793\" stroke-linecap=\"round\" style=\"stroke:white;stroke-width:4\"/><line x1=\"523.023\" y1=\"970.793\" x2=\"400\" y2=\"250\" stroke-linecap=\"round\" style=\"stroke:white;stroke-width:4\"/><line x1=\"400\" y1=\"250\" x2=\"270.409\" y2=\"220.082\" stroke-linecap=\"round\" style=\"stroke:white;stroke-width:4\"/><line x1=\"270.409\" y1=\"220.082\" x2=\"460.363\" y2=\"240.047\" stroke-linecap=\"round\" style=\"stroke:white;stroke-width:4\"/><line x1=\"460.363\" y1=\"240.047\" x2=\"616.248\" y2=\"330.047\" stroke-linecap=\"round\" style=\"stroke:white;stroke-width:4\"/><line x1=\"616.248\" y1=\"330.047\" x2=\"400\" y2=\"250\" stroke-linecap=\"round\" style=\"stroke:white;stroke-width:4\"/><line x1=\"400\" y1=\"250\" x2=\"205.461\" y2=\"226.114\" stroke-linecap=\"round\" style=\"stroke:white;stroke-width:4\"/><line x1=\"205.461\" y1=\"226.114\" x2=\"133.336\" y2=\"153.989\" stroke-linecap=\"round\" style=\"stroke:white;stroke-width:4\"/><line x1=\"133.336\" y1=\"153.989\" x2=\"-29.293\" y2=\"97.991\" stroke-linecap=\"round\" style=\"stroke:white;stroke-width:4\"/><line x1=\"-29.293\" y1=\"97.991\" x2=\"400\" y2=\"250\" stroke-linecap=\"round\" style=\"stroke:white;stroke-width:4\"/><line x1=\"400\" y1=\"250\" x2=\"527.412\" y2=\"229.82\" stroke-linecap=\"round\" style=\"stroke:white;stroke-width:4\"/><line x1=\"527.412\" y1=\"229.82\" x2=\"400\" y2=\"250\" stroke-linecap=\"round\" style=\"stroke:white;stroke-width:4\"/><line x1=\"400\" y1=\"250\" x2=\"522.873\" y2=\"163.964\" stroke-linecap=\"round\" style=\"stroke:white;stroke-width:4\"/><line x1=\"522.873\" y1=\"163.964\" x2=\"400\" y2=\"250\" stroke-linecap=\"round\" style=\"stroke:white;stroke-width:4\"/><line x1=\"400\" y1=\"250\" x2=\"475.02\" y2=\"330.449\" stroke-linecap=\"round\" style=\"stroke:white;stroke-width:4\"/><line x1=\"475.02\" y1=\"330.449\" x2=\"629.099\" y2=\"354.853\" stroke-linecap=\"round\" style=\"stroke:white;stroke-width:4\"/><line x1=\"629.099\" y1=\"354.853\" x2=\"400\" y2=\"250\" stroke-linecap=\"round\" style=\"stroke:white;stroke-width:4\"/><line x1=\"400\" y1=\"250\" x2=\"286.722\" y2=\"110.114\" stroke-linecap=\"round\" style=\"stroke:white;stroke-width:4\"/><line x1=\"286.722\" y1=\"110.114\" x2=\"304.881\" y2=\"-37.775\" stroke-linecap=\"round\" style=\"stroke:white;stroke-width:4\"/><line x1=\"304.881\" y1=\"-37.775\" x2=\"400\" y2=\"250\" stroke-linecap=\"round\" style=\"stroke:white;stroke-width:4\"/><line x1=\"400\" y1=\"250\" x2=\"516.36\" y2=\"398.934\" stroke-linecap=\"round\" style=\"stroke:white;stroke-width:4\"/><line x1=\"516.36\" y1=\"398.934\" x2=\"400\" y2=\"250\" stroke-linecap=\"round\" style=\"stroke:white;stroke-width:4\"/><line x1=\"400\" y1=\"250\" x2=\"469.145\" y2=\"405.303\" stroke-linecap=\"round\" style=\"stroke:white;stroke-width:4\"/><line x1=\"469.145\" y1=\"405.303\" x2=\"527.288\" y2=\"565.051\" stroke-linecap=\"round\" style=\"stroke:white;stroke-width:4\"/><line x1=\"527.288\" y1=\"565.051\" x2=\"400\" y2=\"250\" stroke-linecap=\"round\" style=\"stroke:white;stroke-width:4\"/><line x1=\"400\" y1=\"250\" x2=\"490.024\" y2=\"346.539\" stroke-linecap=\"round\" style=\"stroke:white;stroke-width:4\"/><line x1=\"490.024\" y1=\"346.539\" x2=\"598.208\" y2=\"317.551\" stroke-linecap=\"round\" style=\"stroke:white;stroke-width:4\"/><line x1=\"598.208\" y1=\"317.551\" x2=\"400\" y2=\"250\" stroke-linecap=\"round\" style=\"stroke:white;stroke-width:4\"/><line x1=\"400\" y1=\"250\" x2=\"413.882\" y2=\"448.515\" stroke-linecap=\"round\" style=\"stroke:white;stroke-width:4\"/><line x1=\"413.882\" y1=\"448.515\" x2=\"331.724\" y2=\"603.031\" stroke-linecap=\"round\" style=\"stroke:white;stroke-width:4\"/><line x1=\"331.724\" y1=\"603.031\" x2=\"304.348\" y2=\"430.186\" stroke-linecap=\"round\" style=\"stroke:white;stroke-width:4\"/><line x1=\"304.348\" y1=\"430.186\" x2=\"385.25\" y2=\"371.407\" stroke-linecap=\"round\" style=\"stroke:white;stroke-width:4\"/><line x1=\"385.25\" y1=\"371.407\" x2=\"238.177\" y2=\"329.234\" stroke-linecap=\"round\" style=\"stroke:white;stroke-width:4\"/><line x1=\"238.177\" y1=\"329.234\" x2=\"267.165\" y2=\"221.05\" stroke-linecap=\"round\" style=\"stroke:white;stroke-width:4\"/><line x1=\"267.165\" y1=\"221.05\" x2=\"203.152\" y2=\"346.682\" stroke-linecap=\"round\" style=\"stroke:white;stroke-width:4\"/><line x1=\"203.152\" y1=\"346.682\" x2=\"257.875\" y2=\"497.033\" stroke-linecap=\"round\" style=\"stroke:white;stroke-width:4\"/><line x1=\"257.875\" y1=\"497.033\" x2=\"324.555\" y2=\"662.072\" stroke-linecap=\"round\" style=\"stroke:white;stroke-width:4\"/><line x1=\"324.555\" y1=\"662.072\" x2=\"403.824\" y2=\"597.881\" stroke-linecap=\"round\" style=\"stroke:white;stroke-width:4\"/><line x1=\"403.824\" y1=\"597.881\" x2=\"338.741\" y2=\"458.31\" stroke-linecap=\"round\" style=\"stroke:white;stroke-width:4\"/><line x1=\"338.741\" y1=\"458.31\" x2=\"185.369\" y2=\"354.859\" stroke-linecap=\"round\" style=\"stroke:white;stroke-width:4\"/><line x1=\"185.369\" y1=\"354.859\" x2=\"269.345\" y2=\"451.462\" stroke-linecap=\"round\" style=\"stroke:white;stroke-width:4\"/><line x1=\"269.345\" y1=\"451.462\" x2=\"442.783\" y2=\"491.503\" stroke-linecap=\"round\" style=\"stroke:white;stroke-width:4\"/><line x1=\"442.783\" y1=\"491.503\" x2=\"303.886\" y2=\"461.98\" stroke-linecap=\"round\" style=\"stroke:white;stroke-width:4\"/><line x1=\"303.886\" y1=\"461.98\" x2=\"196.812\" y2=\"576.803\" stroke-linecap=\"round\" style=\"stroke:white;stroke-width:4\"/><line x1=\"196.812\" y1=\"576.803\" x2=\"21.105\" y2=\"670.228\" stroke-linecap=\"round\" style=\"stroke:white;stroke-width:4\"/><line x1=\"21.105\" y1=\"670.228\" x2=\"25.049\" y2=\"557.297\" stroke-linecap=\"round\" style=\"stroke:white;stroke-width:4\"/><line x1=\"25.049\" y1=\"557.297\" x2=\"162.081\" y2=\"618.307\" stroke-linecap=\"round\" style=\"stroke:white;stroke-width:4\"/><line x1=\"162.081\" y1=\"618.307\" x2=\"27.097\" y2=\"646.999\" stroke-linecap=\"round\" style=\"stroke:white;stroke-width:4\"/><line x1=\"27.097\" y1=\"646.999\" x2=\"-22.596\" y2=\"461.541\" stroke-linecap=\"round\" style=\"stroke:white;stroke-width:4\"/><line x1=\"-22.596\" y1=\"461.541\" x2=\"400\" y2=\"250\" stroke-linecap=\"round\" style=\"stroke:white;stroke-width:4\"/><line x1=\"400\" y1=\"250\" x2=\"560.186\" y2=\"145.974\" stroke-linecap=\"round\" style=\"stroke:white;stroke-width:4\"/><line x1=\"560.186\" y1=\"145.974\" x2=\"400\" y2=\"250\" stroke-linecap=\"round\" style=\"stroke:white;stroke-width:4\"/><line x1=\"400\" y1=\"250\" x2=\"495.785\" y2=\"139.812\" stroke-linecap=\"round\" style=\"stroke:white;stroke-width:4\"/><line x1=\"495.785\" y1=\"139.812\" x2=\"381.824\" y2=\"238.877\" stroke-linecap=\"round\" style=\"stroke:white;stroke-width:4\"/><line x1=\"381.824\" y1=\"238.877\" x2=\"313.438\" y2=\"98.665\" stroke-linecap=\"round\" style=\"stroke:white;stroke-width:4\"/><line x1=\"313.438\" y1=\"98.665\" x2=\"447.646\" y2=\"27.305\" stroke-linecap=\"round\" style=\"stroke:white;stroke-width:4\"/><line x1=\"447.646\" y1=\"27.305\" x2=\"610.615\" y2=\"1.493\" stroke-linecap=\"round\" style=\"stroke:white;stroke-width:4\"/><line x1=\"610.615\" y1=\"1.493\" x2=\"400\" y2=\"250\" stroke-linecap=\"round\" style=\"stroke:white;stroke-width:4\"/><line x1=\"400\" y1=\"250\" x2=\"535.59\" y2=\"363.773\" stroke-linecap=\"round\" style=\"stroke:white;stroke-width:4\"/><line x1=\"535.59\" y1=\"363.773\" x2=\"400\" y2=\"250\" stroke-linecap=\"round\" style=\"stroke:white;stroke-width:4\"/><line x1=\"400\" y1=\"250\" x2=\"377.315\" y2=\"88.586\" stroke-linecap=\"round\" style=\"stroke:white;stroke-width:4\"/><line x1=\"377.315\" y1=\"88.586\" x2=\"315.783\" y2=\"-90.117\" stroke-linecap=\"round\" style=\"stroke:white;stroke-width:4\"/><line x1=\"315.783\" y1=\"-90.117\" x2=\"400\" y2=\"250\" stroke-linecap=\"round\" style=\"stroke:white;stroke-width:4\"/><line x1=\"400\" y1=\"250\" x2=\"467.108\" y2=\"154.159\" stroke-linecap=\"round\" style=\"stroke:white;stroke-width:4\"/><line x1=\"467.108\" y1=\"154.159\" x2=\"432.915\" y2=\"6.055\" stroke-linecap=\"round\" style=\"stroke:white;stroke-width:4\"/><line x1=\"432.915\" y1=\"6.055\" x2=\"345.875\" y2=\"-77.999\" stroke-linecap=\"round\" style=\"stroke:white;stroke-width:4\"/><line x1=\"345.875\" y1=\"-77.999\" x2=\"400\" y2=\"250\" stroke-linecap=\"round\" style=\"stroke:white;stroke-width:4\"/><line x1=\"400\" y1=\"250\" x2=\"503.715\" y2=\"365.187\" stroke-linecap=\"round\" style=\"stroke:white;stroke-width:4\"/><line x1=\"503.715\" y1=\"365.187\" x2=\"400\" y2=\"250\" stroke-linecap=\"round\" style=\"stroke:white;stroke-width:4\"/><line x1=\"400\" y1=\"250\" x2=\"385.532\" y2=\"415.368\" stroke-linecap=\"round\" style=\"stroke:white;stroke-width:4\"/><line x1=\"385.532\" y1=\"415.368\" x2=\"282.544\" y2=\"400.894\" stroke-linecap=\"round\" style=\"stroke:white;stroke-width:4\"/><line x1=\"282.544\" y1=\"400.894\" x2=\"339.82\" y2=\"508.614\" stroke-linecap=\"round\" style=\"stroke:white;stroke-width:4\"/><line x1=\"339.82\" y1=\"508.614\" x2=\"402.002\" y2=\"429.025\" stroke-linecap=\"round\" style=\"stroke:white;stroke-width:4\"/><line x1=\"402.002\" y1=\"429.025\" x2=\"246.278\" y2=\"473.678\" stroke-linecap=\"round\" style=\"stroke:white;stroke-width:4\"/><line x1=\"246.278\" y1=\"473.678\" x2=\"226.567\" y2=\"349.229\" stroke-linecap=\"round\" style=\"stroke:white;stroke-width:4\"/><line x1=\"226.567\" y1=\"349.229\" x2=\"322.734\" y2=\"253.062\" stroke-linecap=\"round\" style=\"stroke:white;stroke-width:4\"/><line x1=\"322.734\" y1=\"253.062\" x2=\"358.224\" y2=\"435.645\" stroke-linecap=\"round\" style=\"stroke:white;stroke-width:4\"/><line x1=\"358.224\" y1=\"435.645\" x2=\"541.75\" y2=\"386.469\" stroke-linecap=\"round\" style=\"stroke:white;stroke-width:4\"/><line x1=\"541.75\" y1=\"386.469\" x2=\"400\" y2=\"250\" stroke-linecap=\"round\" style=\"stroke:white;stroke-width:4\"/><line x1=\"400\" y1=\"250\" x2=\"530.566\" y2=\"280.143\" stroke-linecap=\"round\" style=\"stroke:white;stroke-width:4\"/><line x1=\"530.566\" y1=\"280.143\" x2=\"400\" y2=\"250\" stroke-linecap=\"round\" style=\"stroke:white;stroke-width:4\"/><line x1=\"400\" y1=\"250\" x2=\"401.885\" y2=\"357.984\" stroke-linecap=\"round\" style=\"stroke:white;stroke-width:4\"/><line x1=\"401.885\" y1=\"357.984\" x2=\"305.363\" y2=\"438.975\" stroke-linecap=\"round\" style=\"stroke:white;stroke-width:4\"/><line x1=\"305.363\" y1=\"438.975\" x2=\"288.625\" y2=\"544.658\" stroke-linecap=\"round\" style=\"stroke:white;stroke-width:4\"/><line x1=\"288.625\" y1=\"544.658\" x2=\"210.488\" y2=\"479.094\" stroke-linecap=\"round\" style=\"stroke:white;stroke-width:4\"/><line x1=\"210.488\" y1=\"479.094\" x2=\"101.117\" y2=\"443.557\" stroke-linecap=\"round\" style=\"stroke:white;stroke-width:4\"/><line x1=\"101.117\" y1=\"443.557\" x2=\"104.363\" y2=\"629.529\" stroke-linecap=\"round\" style=\"stroke:white;stroke-width:4\"/><line x1=\"104.363\" y1=\"629.529\" x2=\"228.89\" y2=\"521.279\" stroke-linecap=\"round\" style=\"stroke:white;stroke-width:4\"/><line x1=\"228.89\" y1=\"521.279\" x2=\"324.579\" y2=\"394.296\" stroke-linecap=\"round\" style=\"stroke:white;stroke-width:4\"/><line x1=\"324.579\" y1=\"394.296\" x2=\"231.375\" y2=\"283.22\" stroke-linecap=\"round\" style=\"stroke:white;stroke-width:4\"/><line x1=\"231.375\" y1=\"283.22\" x2=\"189.446\" y2=\"126.74\" stroke-linecap=\"round\" style=\"stroke:white;stroke-width:4\"/><line x1=\"189.446\" y1=\"126.74\" x2=\"326.063\" y2=\"193.372\" stroke-linecap=\"round\" style=\"stroke:white;stroke-width:4\"/><line x1=\"326.063\" y1=\"193.372\" x2=\"455.442\" y2=\"95.878\" stroke-linecap=\"round\" style=\"stroke:white;stroke-width:4\"/><line x1=\"455.442\" y1=\"95.878\" x2=\"578.969\" y2=\"12.558\" stroke-linecap=\"round\" style=\"stroke:white;stroke-width:4\"/><line x1=\"578.969\" y1=\"12.558\" x2=\"400\" y2=\"250\" stroke-linecap=\"round\" style=\"stroke:white;stroke-width:4\"/><line x1=\"400\" y1=\"250\" x2=\"295.763\" y2=\"218.131\" stroke-linecap=\"round\" style=\"stroke:white;stroke-width:4\"/><line x1=\"295.763\" y1=\"218.131\" x2=\"413.515\" y2=\"170.556\" stroke-linecap=\"round\" style=\"stroke:white;stroke-width:4\"/><line x1=\"413.515\" y1=\"170.556\" x2=\"475.258\" y2=\"49.379\" stroke-linecap=\"round\" style=\"stroke:white;stroke-width:4\"/><line x1=\"475.258\" y1=\"49.379\" x2=\"358.858\" y2=\"74.12\" stroke-linecap=\"round\" style=\"stroke:white;stroke-width:4\"/><line x1=\"358.858\" y1=\"74.12\" x2=\"520.35\" y2=\"120.427\" stroke-linecap=\"round\" style=\"stroke:white;stroke-width:4\"/><line x1=\"520.35\" y1=\"120.427\" x2=\"400\" y2=\"250\" stroke-linecap=\"round\" style=\"stroke:white;stroke-width:4\"/><line x1=\"400\" y1=\"250\" x2=\"288.103\" y2=\"145.654\" stroke-linecap=\"round\" style=\"stroke:white;stroke-width:4\"/><line x1=\"288.103\" y1=\"145.654\" x2=\"200.429\" y2=\"-34.105\" stroke-linecap=\"round\" style=\"stroke:white;stroke-width:4\"/><line x1=\"200.429\" y1=\"-34.105\" x2=\"400\" y2=\"250\" stroke-linecap=\"round\" style=\"stroke:white;stroke-width:4\"/><line x1=\"400\" y1=\"250\" x2=\"569.586\" y2=\"238.141\" stroke-linecap=\"round\" style=\"stroke:white;stroke-width:4\"/><line x1=\"569.586\" y1=\"238.141\" x2=\"400\" y2=\"250\" stroke-linecap=\"round\" style=\"stroke:white;stroke-width:4\"/><line x1=\"400\" y1=\"250\" x2=\"414.032\" y2=\"89.613\" stroke-linecap=\"round\" style=\"stroke:white;stroke-width:4\"/><line x1=\"414.032\" y1=\"89.613\" x2=\"229.418\" y2=\"66.945\" stroke-linecap=\"round\" style=\"stroke:white;stroke-width:4\"/><line x1=\"229.418\" y1=\"66.945\" x2=\"385.951\" y2=\"184.901\" stroke-linecap=\"round\" style=\"stroke:white;stroke-width:4\"/><line x1=\"385.951\" y1=\"184.901\" x2=\"487.43\" y2=\"250.802\" stroke-linecap=\"round\" style=\"stroke:white;stroke-width:4\"/><line x1=\"487.43\" y1=\"250.802\" x2=\"558.852\" y2=\"97.636\" stroke-linecap=\"round\" style=\"stroke:white;stroke-width:4\"/><line x1=\"558.852\" y1=\"97.636\" x2=\"400\" y2=\"250\" stroke-linecap=\"round\" style=\"stroke:white;stroke-width:4\"/><line x1=\"400\" y1=\"250\" x2=\"297.286\" y2=\"216.626\" stroke-linecap=\"round\" style=\"stroke:white;stroke-width:4\"/><line x1=\"297.286\" y1=\"216.626\" x2=\"344.219\" y2=\"404.863\" stroke-linecap=\"round\" style=\"stroke:white;stroke-width:4\"/><line x1=\"344.219\" y1=\"404.863\" x2=\"400.062\" y2=\"222.209\" stroke-linecap=\"round\" style=\"stroke:white;stroke-width:4\"/><line x1=\"400.062\" y1=\"222.209\" x2=\"491.254\" y2=\"327.114\" stroke-linecap=\"round\" style=\"stroke:white;stroke-width:4\"/><line x1=\"491.254\" y1=\"327.114\" x2=\"565.175\" y2=\"239.019\" stroke-linecap=\"round\" style=\"stroke:white;stroke-width:4\"/><line x1=\"565.175\" y1=\"239.019\" x2=\"400\" y2=\"250\" stroke-linecap=\"round\" style=\"stroke:white;stroke-width:4\"/><line x1=\"400\" y1=\"250\" x2=\"543.232\" y2=\"216.932\" stroke-linecap=\"round\" style=\"stroke:white;stroke-width:4\"/><line x1=\"543.232\" y1=\"216.932\" x2=\"400\" y2=\"250\" stroke-linecap=\"round\" style=\"stroke:white;stroke-width:4\"/><line x1=\"400\" y1=\"250\" x2=\"412.439\" y2=\"131.652\" stroke-linecap=\"round\" style=\"stroke:white;stroke-width:4\"/><line x1=\"412.439\" y1=\"131.652\" x2=\"267.239\" y2=\"146.913\" stroke-linecap=\"round\" style=\"stroke:white;stroke-width:4\"/><line x1=\"267.239\" y1=\"146.913\" x2=\"371.217\" y2=\"132.3\" stroke-linecap=\"round\" style=\"stroke:white;stroke-width:4\"/><line x1=\"371.217\" y1=\"132.3\" x2=\"395.621\" y2=\"286.379\" stroke-linecap=\"round\" style=\"stroke:white;stroke-width:4\"/><line x1=\"395.621\" y1=\"286.379\" x2=\"561.596\" y2=\"289.276\" stroke-linecap=\"round\" style=\"stroke:white;stroke-width:4\"/><line x1=\"561.596\" y1=\"289.276\" x2=\"400\" y2=\"250\" stroke-linecap=\"round\" style=\"stroke:white;stroke-width:4\"/><line x1=\"400\" y1=\"250\" x2=\"467.373\" y2=\"74.487\" stroke-linecap=\"round\" style=\"stroke:white;stroke-width:4\"/><line x1=\"467.373\" y1=\"74.487\" x2=\"545.912\" y2=\"216.175\" stroke-linecap=\"round\" style=\"stroke:white;stroke-width:4\"/><line x1=\"545.912\" y1=\"216.175\" x2=\"400\" y2=\"250\" stroke-linecap=\"round\" style=\"stroke:white;stroke-width:4\"/><line x1=\"400\" y1=\"250\" x2=\"501.118\" y2=\"165.152\" stroke-linecap=\"round\" style=\"stroke:white;stroke-width:4\"/><line x1=\"501.118\" y1=\"165.152\" x2=\"400\" y2=\"250\" stroke-linecap=\"round\" style=\"stroke:white;stroke-width:4\"/><line x1=\"400\" y1=\"250\" x2=\"403.664\" y2=\"354.936\" stroke-linecap=\"round\" style=\"stroke:white;stroke-width:4\"/><line x1=\"403.664\" y1=\"354.936\" x2=\"410.919\" y2=\"458.683\" stroke-linecap=\"round\" style=\"stroke:white;stroke-width:4\"/><line x1=\"410.919\" y1=\"458.683\" x2=\"427.853\" y2=\"297.57\" stroke-linecap=\"round\" style=\"stroke:white;stroke-width:4\"/><line x1=\"427.853\" y1=\"297.57\" x2=\"424.223\" y2=\"193.633\" stroke-linecap=\"round\" style=\"stroke:white;stroke-width:4\"/><line x1=\"424.223\" y1=\"193.633\" x2=\"536.71\" y2=\"217.543\" stroke-linecap=\"round\" style=\"stroke:white;stroke-width:4\"/><line x1=\"536.71\" y1=\"217.543\" x2=\"400\" y2=\"250\" stroke-linecap=\"round\" style=\"stroke:white;stroke-width:4\"/><line x1=\"400\" y1=\"250\" x2=\"502.463\" y2=\"200.026\" stroke-linecap=\"round\" style=\"stroke:white;stroke-width:4\"/><line x1=\"502.463\" y1=\"200.026\" x2=\"400\" y2=\"250\" stroke-linecap=\"round\" style=\"stroke:white;stroke-width:4\"/><line x1=\"400\" y1=\"250\" x2=\"260.781\" y2=\"340.41\" stroke-linecap=\"round\" style=\"stroke:white;stroke-width:4\"/><line x1=\"260.781\" y1=\"340.41\" x2=\"263.259\" y2=\"482.388\" stroke-linecap=\"round\" style=\"stroke:white;stroke-width:4\"/><line x1=\"263.259\" y1=\"482.388\" x2=\"167.13\" y2=\"537.888\" stroke-linecap=\"round\" style=\"stroke:white;stroke-width:4\"/><line x1=\"167.13\" y1=\"537.888\" x2=\"276.191\" y2=\"650.824\" stroke-linecap=\"round\" style=\"stroke:white;stroke-width:4\"/><line x1=\"276.191\" y1=\"650.824\" x2=\"249.786\" y2=\"526.599\" stroke-linecap=\"round\" style=\"stroke:white;stroke-width:4\"/><line x1=\"249.786\" y1=\"526.599\" x2=\"158.903\" y2=\"572.906\" stroke-linecap=\"round\" style=\"stroke:white;stroke-width:4\"/><line x1=\"158.903\" y1=\"572.906\" x2=\"295.76\" y2=\"500.138\" stroke-linecap=\"round\" style=\"stroke:white;stroke-width:4\"/><line x1=\"295.76\" y1=\"500.138\" x2=\"303.782\" y2=\"614.858\" stroke-linecap=\"round\" style=\"stroke:white;stroke-width:4\"/><line x1=\"303.782\" y1=\"614.858\" x2=\"489.527\" y2=\"624.592\" stroke-linecap=\"round\" style=\"stroke:white;stroke-width:4\"/><line x1=\"489.527\" y1=\"624.592\" x2=\"618.669\" y2=\"768.019\" stroke-linecap=\"round\" style=\"stroke:white;stroke-width:4\"/><line x1=\"618.669\" y1=\"768.019\" x2=\"400\" y2=\"250\" stroke-linecap=\"round\" style=\"stroke:white;stroke-width:4\"/><line x1=\"400\" y1=\"250\" x2=\"236.99\" y2=\"290.643\" stroke-linecap=\"round\" style=\"stroke:white;stroke-width:4\"/><line x1=\"236.99\" y1=\"290.643\" x2=\"54.362\" y2=\"313.067\" stroke-linecap=\"round\" style=\"stroke:white;stroke-width:4\"/><line x1=\"54.362\" y1=\"313.067\" x2=\"-42.035\" y2=\"180.388\" stroke-linecap=\"round\" style=\"stroke:white;stroke-width:4\"/><line x1=\"-42.035\" y1=\"180.388\" x2=\"400\" y2=\"250\" stroke-linecap=\"round\" style=\"stroke:white;stroke-width:4\"/><line x1=\"400\" y1=\"250\" x2=\"581.205\" y2=\"281.951\" stroke-linecap=\"round\" style=\"stroke:white;stroke-width:4\"/><line x1=\"581.205\" y1=\"281.951\" x2=\"400\" y2=\"250\" stroke-linecap=\"round\" style=\"stroke:white;stroke-width:4\"/><line x1=\"400\" y1=\"250\" x2=\"219.78\" y2=\"218.222\" stroke-linecap=\"round\" style=\"stroke:white;stroke-width:4\"/><line x1=\"219.78\" y1=\"218.222\" x2=\"210.367\" y2=\"325.811\" stroke-linecap=\"round\" style=\"stroke:white;stroke-width:4\"/><line x1=\"210.367\" y1=\"325.811\" x2=\"34.854\" y2=\"393.184\" stroke-linecap=\"round\" style=\"stroke:white;stroke-width:4\"/><line x1=\"34.854\" y1=\"393.184\" x2=\"93.667\" y2=\"538.752\" stroke-linecap=\"round\" style=\"stroke:white;stroke-width:4\"/><line x1=\"93.667\" y1=\"538.752\" x2=\"-7.198\" y2=\"617.557\" stroke-linecap=\"round\" style=\"stroke:white;stroke-width:4\"/><line x1=\"-7.198\" y1=\"617.557\" x2=\"400\" y2=\"250\" stroke-linecap=\"round\" style=\"stroke:white;stroke-width:4\"/><line x1=\"400\" y1=\"250\" x2=\"330.436\" y2=\"175.402\" stroke-linecap=\"round\" style=\"stroke:white;stroke-width:4\"/><line x1=\"330.436\" y1=\"175.402\" x2=\"432.612\" y2=\"218.773\" stroke-linecap=\"round\" style=\"stroke:white;stroke-width:4\"/><line x1=\"432.612\" y1=\"218.773\" x2=\"303.877\" y2=\"200.68\" stroke-linecap=\"round\" style=\"stroke:white;stroke-width:4\"/><line x1=\"303.877\" y1=\"200.68\" x2=\"350.703\" y2=\"84.782\" stroke-linecap=\"round\" style=\"stroke:white;stroke-width:4\"/><line x1=\"350.703\" y1=\"84.782\" x2=\"183.955\" y2=\"105.256\" stroke-linecap=\"round\" style=\"stroke:white;stroke-width:4\"/><line x1=\"183.955\" y1=\"105.256\" x2=\"98.459\" y2=\"-37.034\" stroke-linecap=\"round\" style=\"stroke:white;stroke-width:4\"/><line x1=\"98.459\" y1=\"-37.034\" x2=\"400\" y2=\"250\" stroke-linecap=\"round\" style=\"stroke:white;stroke-width:4\"/><line x1=\"400\" y1=\"250\" x2=\"292.225\" y2=\"322.695\" stroke-linecap=\"round\" style=\"stroke:white;stroke-width:4\"/><line x1=\"292.225\" y1=\"322.695\" x2=\"301.115\" y2=\"221.083\" stroke-linecap=\"round\" style=\"stroke:white;stroke-width:4\"/><line x1=\"301.115\" y1=\"221.083\" x2=\"305.233\" y2=\"339.011\" stroke-linecap=\"round\" style=\"stroke:white;stroke-width:4\"/><line x1=\"305.233\" y1=\"339.011\" x2=\"159.304\" y2=\"244.244\" stroke-linecap=\"round\" style=\"stroke:white;stroke-width:4\"/><line x1=\"159.304\" y1=\"244.244\" x2=\"234.964\" y2=\"319.904\" stroke-linecap=\"round\" style=\"stroke:white;stroke-width:4\"/><line x1=\"234.964\" y1=\"319.904\" x2=\"286.983\" y2=\"406.478\" stroke-linecap=\"round\" style=\"stroke:white;stroke-width:4\"/><line x1=\"286.983\" y1=\"406.478\" x2=\"397.115\" y2=\"552.628\" stroke-linecap=\"round\" style=\"stroke:white;stroke-width:4\"/><line x1=\"397.115\" y1=\"552.628\" x2=\"230.718\" y2=\"603.501\" stroke-linecap=\"round\" style=\"stroke:white;stroke-width:4\"/><line x1=\"230.718\" y1=\"603.501\" x2=\"358.64\" y2=\"599.034\" stroke-linecap=\"round\" style=\"stroke:white;stroke-width:4\"/><line x1=\"358.64\" y1=\"599.034\" x2=\"236.807\" y2=\"592.649\" stroke-linecap=\"round\" style=\"stroke:white;stroke-width:4\"/><line x1=\"236.807\" y1=\"592.649\" x2=\"359.222\" y2=\"647.152\" stroke-linecap=\"round\" style=\"stroke:white;stroke-width:4\"/><line x1=\"359.222\" y1=\"647.152\" x2=\"415.971\" y2=\"758.528\" stroke-linecap=\"round\" style=\"stroke:white;stroke-width:4\"/><line x1=\"415.971\" y1=\"758.528\" x2=\"378.629\" y2=\"596.783\" stroke-linecap=\"round\" style=\"stroke:white;stroke-width:4\"/><line x1=\"378.629\" y1=\"596.783\" x2=\"504.168\" y2=\"637.573\" stroke-linecap=\"round\" style=\"stroke:white;stroke-width:4\"/><line x1=\"504.168\" y1=\"637.573\" x2=\"400\" y2=\"250\" stroke-linecap=\"round\" style=\"stroke:white;stroke-width:4\"/><line x1=\"400\" y1=\"250\" x2=\"536.812\" y2=\"215.889\" stroke-linecap=\"round\" style=\"stroke:white;stroke-width:4\"/><line x1=\"536.812\" y1=\"215.889\" x2=\"400\" y2=\"250\" stroke-linecap=\"round\" style=\"stroke:white;stroke-width:4\"/><line x1=\"400\" y1=\"250\" x2=\"415.956\" y2=\"149.256\" stroke-linecap=\"round\" style=\"stroke:white;stroke-width:4\"/><line x1=\"415.956\" y1=\"149.256\" x2=\"336.551\" y2=\"266.979\" stroke-linecap=\"round\" style=\"stroke:white;stroke-width:4\"/><line x1=\"336.551\" y1=\"266.979\" x2=\"243.168\" y2=\"201.591\" stroke-linecap=\"round\" style=\"stroke:white;stroke-width:4\"/><line x1=\"243.168\" y1=\"201.591\" x2=\"313.94\" y2=\"360.548\" stroke-linecap=\"round\" style=\"stroke:white;stroke-width:4\"/><line x1=\"313.94\" y1=\"360.548\" x2=\"496.568\" y2=\"338.124\" stroke-linecap=\"round\" style=\"stroke:white;stroke-width:4\"/><line x1=\"496.568\" y1=\"338.124\" x2=\"640.908\" y2=\"402.388\" stroke-linecap=\"round\" style=\"stroke:white;stroke-width:4\"/><line x1=\"640.908\" y1=\"402.388\" x2=\"400\" y2=\"250\" stroke-linecap=\"round\" style=\"stroke:white;stroke-width:4\"/><line x1=\"400\" y1=\"250\" x2=\"405.549\" y2=\"408.903\" stroke-linecap=\"round\" style=\"stroke:white;stroke-width:4\"/><line x1=\"405.549\" y1=\"408.903\" x2=\"449.883\" y2=\"508.479\" stroke-linecap=\"round\" style=\"stroke:white;stroke-width:4\"/><line x1=\"449.883\" y1=\"508.479\" x2=\"503.276\" y2=\"663.544\" stroke-linecap=\"round\" style=\"stroke:white;stroke-width:4\"/><line x1=\"503.276\" y1=\"663.544\" x2=\"400\" y2=\"250\" stroke-linecap=\"round\" style=\"stroke:white;stroke-width:4\"/><line x1=\"400\" y1=\"250\" x2=\"518.116\" y2=\"335.817\" stroke-linecap=\"round\" style=\"stroke:white;stroke-width:4\"/><line x1=\"518.116\" y1=\"335.817\" x2=\"400\" y2=\"250\" stroke-linecap=\"round\" style=\"stroke:white;stroke-width:4\"/><line x1=\"400\" y1=\"250\" x2=\"366.612\" y2=\"125.396\" stroke-linecap=\"round\" style=\"stroke:white;stroke-width:4\"/><line x1=\"366.612\" y1=\"125.396\" x2=\"486.898\" y2=\"64.107\" stroke-linecap=\"round\" style=\"stroke:white;stroke-width:4\"/><line x1=\"486.898\" y1=\"64.107\" x2=\"593.704\" y2=\"222.453\" stroke-linecap=\"round\" style=\"stroke:white;stroke-width:4\"/><line x1=\"593.704\" y1=\"222.453\" x2=\"400\" y2=\"250\" stroke-linecap=\"round\" style=\"stroke:white;stroke-width:4\"/><line x1=\"400\" y1=\"250\" x2=\"521.354\" y2=\"155.188\" stroke-linecap=\"round\" style=\"stroke:white;stroke-width:4\"/><line x1=\"521.354\" y1=\"155.188\" x2=\"400\" y2=\"250\" stroke-linecap=\"round\" style=\"stroke:white;stroke-width:4\"/><line x1=\"400\" y1=\"250\" x2=\"469.59\" y2=\"172.713\" stroke-linecap=\"round\" style=\"stroke:white;stroke-width:4\"/><line x1=\"469.59\" y1=\"172.713\" x2=\"472.033\" y2=\"32.734\" stroke-linecap=\"round\" style=\"stroke:white;stroke-width:4\"/><line x1=\"472.033\" y1=\"32.734\" x2=\"358.003\" y2=\"-124.215\" stroke-linecap=\"round\" style=\"stroke:white;stroke-width:4\"/><line x1=\"358.003\" y1=\"-124.215\" x2=\"400\" y2=\"250\" stroke-linecap=\"round\" style=\"stroke:white;stroke-width:4\"/><line x1=\"400\" y1=\"250\" x2=\"208.439\" y2=\"226.479\" stroke-linecap=\"round\" style=\"stroke:white;stroke-width:4\"/><line x1=\"208.439\" y1=\"226.479\" x2=\"125.381\" y2=\"163.89\" stroke-linecap=\"round\" style=\"stroke:white;stroke-width:4\"/><line x1=\"125.381\" y1=\"163.89\" x2=\"256.918\" y2=\"45.454\" stroke-linecap=\"round\" style=\"stroke:white;stroke-width:4\"/><line x1=\"256.918\" y1=\"45.454\" x2=\"266.893\" y2=\"188.106\" stroke-linecap=\"round\" style=\"stroke:white;stroke-width:4\"/><line x1=\"266.893\" y1=\"188.106\" x2=\"456.214\" y2=\"137.377\" stroke-linecap=\"round\" style=\"stroke:white;stroke-width:4\"/><line x1=\"456.214\" y1=\"137.377\" x2=\"559.196\" y2=\"26.943\" stroke-linecap=\"round\" style=\"stroke:white;stroke-width:4\"/><line x1=\"559.196\" y1=\"26.943\" x2=\"400\" y2=\"250\" stroke-linecap=\"round\" style=\"stroke:white;stroke-width:4\"/><line x1=\"400\" y1=\"250\" x2=\"283.425\" y2=\"174.295\" stroke-linecap=\"round\" style=\"stroke:white;stroke-width:4\"/><line x1=\"283.425\" y1=\"174.295\" x2=\"376.39\" y2=\"55.305\" stroke-linecap=\"round\" style=\"stroke:white;stroke-width:4\"/><line x1=\"376.39\" y1=\"55.305\" x2=\"398.142\" y2=\"-56.6\" stroke-linecap=\"round\" style=\"stroke:white;stroke-width:4\"/><line x1=\"398.142\" y1=\"-56.6\" x2=\"400\" y2=\"250\" stroke-linecap=\"round\" style=\"stroke:white;stroke-width:4\"/><line x1=\"400\" y1=\"250\" x2=\"490.306\" y2=\"343.514\" stroke-linecap=\"round\" style=\"stroke:white;stroke-width:4\"/><line x1=\"490.306\" y1=\"343.514\" x2=\"384.322\" y2=\"345.364\" stroke-linecap=\"round\" style=\"stroke:white;stroke-width:4\"/><line x1=\"384.322\" y1=\"345.364\" x2=\"471.13\" y2=\"234.254\" stroke-linecap=\"round\" style=\"stroke:white;stroke-width:4\"/><line x1=\"471.13\" y1=\"234.254\" x2=\"654.656\" y2=\"185.078\" stroke-linecap=\"round\" style=\"stroke:white;stroke-width:4\"/><line x1=\"654.656\" y1=\"185.078\" x2=\"400\" y2=\"250\" stroke-linecap=\"round\" style=\"stroke:white;stroke-width:4\"/><line x1=\"400\" y1=\"250\" x2=\"298.895\" y2=\"115.829\" stroke-linecap=\"round\" style=\"stroke:white;stroke-width:4\"/><line x1=\"298.895\" y1=\"115.829\" x2=\"327.992\" y2=\"-67.881\" stroke-linecap=\"round\" style=\"stroke:white;stroke-width:4\"/><line x1=\"327.992\" y1=\"-67.881\" x2=\"400\" y2=\"250\" stroke-linecap=\"round\" style=\"stroke:white;stroke-width:4\"/><line x1=\"400\" y1=\"250\" x2=\"515.353\" y2=\"210.281\" stroke-linecap=\"round\" style=\"stroke:white;stroke-width:4\"/><line x1=\"515.353\" y1=\"210.281\" x2=\"400\" y2=\"250\" stroke-linecap=\"round\" style=\"stroke:white;stroke-width:4\"/><line x1=\"400\" y1=\"250\" x2=\"583.892\" y2=\"210.913\" stroke-linecap=\"round\" style=\"stroke:white;stroke-width:4\"/><line x1=\"583.892\" y1=\"210.913\" x2=\"400\" y2=\"250\" stroke-linecap=\"round\" style=\"stroke:white;stroke-width:4\"/><line x1=\"400\" y1=\"250\" x2=\"489.0\" y2=\"95.847\" stroke-linecap=\"round\" style=\"stroke:white;stroke-width:4\"/><line x1=\"489.0\" y1=\"95.847\" x2=\"371.121\" y2=\"22.188\" stroke-linecap=\"round\" style=\"stroke:white;stroke-width:4\"/><line x1=\"371.121\" y1=\"22.188\" x2=\"419.602\" y2=\"-65.274\" stroke-linecap=\"round\" style=\"stroke:white;stroke-width:4\"/><line x1=\"419.602\" y1=\"-65.274\" x2=\"400\" y2=\"250\" stroke-linecap=\"round\" style=\"stroke:white;stroke-width:4\"/><line x1=\"400\" y1=\"250\" x2=\"526.517\" y2=\"238.931\" stroke-linecap=\"round\" style=\"stroke:white;stroke-width:4\"/><line x1=\"526.517\" y1=\"238.931\" x2=\"400\" y2=\"250\" stroke-linecap=\"round\" style=\"stroke:white;stroke-width:4\"/><line x1=\"400\" y1=\"250\" x2=\"475.249\" y2=\"129.577\" stroke-linecap=\"round\" style=\"stroke:white;stroke-width:4\"/><line x1=\"475.249\" y1=\"129.577\" x2=\"670.781\" y2=\"153.585\" stroke-linecap=\"round\" style=\"stroke:white;stroke-width:4\"/><line x1=\"670.781\" y1=\"153.585\" x2=\"400\" y2=\"250\" stroke-linecap=\"round\" style=\"stroke:white;stroke-width:4\"/><line x1=\"400\" y1=\"250\" x2=\"235.571\" y2=\"341.144\" stroke-linecap=\"round\" style=\"stroke:white;stroke-width:4\"/><line x1=\"235.571\" y1=\"341.144\" x2=\"170.065\" y2=\"200.666\" stroke-linecap=\"round\" style=\"stroke:white;stroke-width:4\"/><line x1=\"170.065\" y1=\"200.666\" x2=\"24.409\" y2=\"69.516\" stroke-linecap=\"round\" style=\"stroke:white;stroke-width:4\"/><line x1=\"24.409\" y1=\"69.516\" x2=\"163.263\" y2=\"24.4\" stroke-linecap=\"round\" style=\"stroke:white;stroke-width:4\"/><line x1=\"163.263\" y1=\"24.4\" x2=\"-16.218\" y2=\"89.726\" stroke-linecap=\"round\" style=\"stroke:white;stroke-width:4\"/><line x1=\"-16.218\" y1=\"89.726\" x2=\"400\" y2=\"250\" stroke-linecap=\"round\" style=\"stroke:white;stroke-width:4\"/><line x1=\"400\" y1=\"250\" x2=\"519.105\" y2=\"117.72\" stroke-linecap=\"round\" style=\"stroke:white;stroke-width:4\"/><line x1=\"519.105\" y1=\"117.72\" x2=\"400\" y2=\"250\" stroke-linecap=\"round\" style=\"stroke:white;stroke-width:4\"/><line x1=\"400\" y1=\"250\" x2=\"557.621\" y2=\"186.317\" stroke-linecap=\"round\" style=\"stroke:white;stroke-width:4\"/><line x1=\"557.621\" y1=\"186.317\" x2=\"400\" y2=\"250\" stroke-linecap=\"round\" style=\"stroke:white;stroke-width:4\"/><line x1=\"400\" y1=\"250\" x2=\"388.281\" y2=\"417.591\" stroke-linecap=\"round\" style=\"stroke:white;stroke-width:4\"/><line x1=\"388.281\" y1=\"417.591\" x2=\"201.309\" y2=\"414.327\" stroke-linecap=\"round\" style=\"stroke:white;stroke-width:4\"/><line x1=\"201.309\" y1=\"414.327\" x2=\"84.309\" y2=\"414.327\" stroke-linecap=\"round\" style=\"stroke:white;stroke-width:4\"/><line x1=\"84.309\" y1=\"414.327\" x2=\"199.975\" y2=\"475.828\" stroke-linecap=\"round\" style=\"stroke:white;stroke-width:4\"/><line x1=\"199.975\" y1=\"475.828\" x2=\"187.076\" y2=\"328.391\" stroke-linecap=\"round\" style=\"stroke:white;stroke-width:4\"/><line x1=\"187.076\" y1=\"328.391\" x2=\"157.119\" y2=\"174.276\" stroke-linecap=\"round\" style=\"stroke:white;stroke-width:4\"/><line x1=\"157.119\" y1=\"174.276\" x2=\"136.629\" y2=\"290.483\" stroke-linecap=\"round\" style=\"stroke:white;stroke-width:4\"/><line x1=\"136.629\" y1=\"290.483\" x2=\"-14.348\" y2=\"293.118\" stroke-linecap=\"round\" style=\"stroke:white;stroke-width:4\"/><line x1=\"-14.348\" y1=\"293.118\" x2=\"400\" y2=\"250\" stroke-linecap=\"round\" style=\"stroke:white;stroke-width:4\"/><line x1=\"400\" y1=\"250\" x2=\"255.657\" y2=\"323.546\" stroke-linecap=\"round\" style=\"stroke:white;stroke-width:4\"/><line x1=\"255.657\" y1=\"323.546\" x2=\"365.259\" y2=\"161.055\" stroke-linecap=\"round\" style=\"stroke:white;stroke-width:4\"/><line x1=\"365.259\" y1=\"161.055\" x2=\"478.103\" y2=\"126.555\" stroke-linecap=\"round\" style=\"stroke:white;stroke-width:4\"/><line x1=\"478.103\" y1=\"126.555\" x2=\"570.607\" y2=\"20.141\" stroke-linecap=\"round\" style=\"stroke:white;stroke-width:4\"/><line x1=\"570.607\" y1=\"20.141\" x2=\"400\" y2=\"250\" stroke-linecap=\"round\" style=\"stroke:white;stroke-width:4\"/><line x1=\"400\" y1=\"250\" x2=\"599.726\" y2=\"260.467\" stroke-linecap=\"round\" style=\"stroke:white;stroke-width:4\"/><line x1=\"599.726\" y1=\"260.467\" x2=\"400\" y2=\"250\" stroke-linecap=\"round\" style=\"stroke:white;stroke-width:4\"/><line x1=\"400\" y1=\"250\" x2=\"511.453\" y2=\"299.622\" stroke-linecap=\"round\" style=\"stroke:white;stroke-width:4\"/><line x1=\"511.453\" y1=\"299.622\" x2=\"400\" y2=\"250\" stroke-linecap=\"round\" style=\"stroke:white;stroke-width:4\"/><line x1=\"400\" y1=\"250\" x2=\"498.995\" y2=\"348.995\" stroke-linecap=\"round\" style=\"stroke:white;stroke-width:4\"/><line x1=\"498.995\" y1=\"348.995\" x2=\"488.58\" y2=\"547.722\" stroke-linecap=\"round\" style=\"stroke:white;stroke-width:4\"/><line x1=\"488.58\" y1=\"547.722\" x2=\"592.564\" y2=\"549.537\" stroke-linecap=\"round\" style=\"stroke:white;stroke-width:4\"/><line x1=\"592.564\" y1=\"549.537\" x2=\"400\" y2=\"250\" stroke-linecap=\"round\" style=\"stroke:white;stroke-width:4\"/><line x1=\"400\" y1=\"250\" x2=\"448.909\" y2=\"384.376\" stroke-linecap=\"round\" style=\"stroke:white;stroke-width:4\"/><line x1=\"448.909\" y1=\"384.376\" x2=\"538.252\" y2=\"261.405\" stroke-linecap=\"round\" style=\"stroke:white;stroke-width:4\"/><line x1=\"538.252\" y1=\"261.405\" x2=\"400\" y2=\"250\" stroke-linecap=\"round\" style=\"stroke:white;stroke-width:4\"/><line x1=\"400\" y1=\"250\" x2=\"288.624\" y2=\"306.749\" stroke-linecap=\"round\" style=\"stroke:white;stroke-width:4\"/><line x1=\"288.624\" y1=\"306.749\" x2=\"293.91\" y2=\"407.611\" stroke-linecap=\"round\" style=\"stroke:white;stroke-width:4\"/><line x1=\"293.91\" y1=\"407.611\" x2=\"390.351\" y2=\"518.553\" stroke-linecap=\"round\" style=\"stroke:white;stroke-width:4\"/><line x1=\"390.351\" y1=\"518.553\" x2=\"316.644\" y2=\"657.176\" stroke-linecap=\"round\" style=\"stroke:white;stroke-width:4\"/><line x1=\"316.644\" y1=\"657.176\" x2=\"147.876\" y2=\"666.021\" stroke-linecap=\"round\" style=\"stroke:white;stroke-width:4\"/><line x1=\"147.876\" y1=\"666.021\" x2=\"-23.148\" y2=\"728.269\" stroke-linecap=\"round\" style=\"stroke:white;stroke-width:4\"/><line x1=\"-23.148\" y1=\"728.269\" x2=\"400\" y2=\"250\" stroke-linecap=\"round\" style=\"stroke:white;stroke-width:4\"/><line x1=\"400\" y1=\"250\" x2=\"577.833\" y2=\"300.993\" stroke-linecap=\"round\" style=\"stroke:white;stroke-width:4\"/><line x1=\"577.833\" y1=\"300.993\" x2=\"400\" y2=\"250\" stroke-linecap=\"round\" style=\"stroke:white;stroke-width:4\"/><line x1=\"400\" y1=\"250\" x2=\"330.051\" y2=\"138.058\" stroke-linecap=\"round\" style=\"stroke:white;stroke-width:4\"/><line x1=\"330.051\" y1=\"138.058\" x2=\"466.463\" y2=\"169.551\" stroke-linecap=\"round\" style=\"stroke:white;stroke-width:4\"/><line x1=\"466.463\" y1=\"169.551\" x2=\"286.713\" y2=\"111.147\" stroke-linecap=\"round\" style=\"stroke:white;stroke-width:4\"/><line x1=\"286.713\" y1=\"111.147\" x2=\"163.613\" y2=\"155.952\" stroke-linecap=\"round\" style=\"stroke:white;stroke-width:4\"/><line x1=\"163.613\" y1=\"155.952\" x2=\"-4.839\" y2=\"84.448\" stroke-linecap=\"round\" style=\"stroke:white;stroke-width:4\"/><line x1=\"-4.839\" y1=\"84.448\" x2=\"400\" y2=\"250\" stroke-linecap=\"round\" style=\"stroke:white;stroke-width:4\"/><line x1=\"400\" y1=\"250\" x2=\"428.276\" y2=\"116.972\" stroke-linecap=\"round\" style=\"stroke:white;stroke-width:4\"/><line x1=\"428.276\" y1=\"116.972\" x2=\"596.633\" y2=\"102.243\" stroke-linecap=\"round\" style=\"stroke:white;stroke-width:4\"/><line x1=\"596.633\" y1=\"102.243\" x2=\"400\" y2=\"250\" stroke-linecap=\"round\" style=\"stroke:white;stroke-width:4\"/><line x1=\"400\" y1=\"250\" x2=\"529.288\" y2=\"263.589\" stroke-linecap=\"round\" style=\"stroke:white;stroke-width:4\"/><line x1=\"529.288\" y1=\"263.589\" x2=\"400\" y2=\"250\" stroke-linecap=\"round\" style=\"stroke:white;stroke-width:4\"/><line x1=\"400\" y1=\"250\" x2=\"357.738\" y2=\"340.631\" stroke-linecap=\"round\" style=\"stroke:white;stroke-width:4\"/><line x1=\"357.738\" y1=\"340.631\" x2=\"430.428\" y2=\"496.516\" stroke-linecap=\"round\" style=\"stroke:white;stroke-width:4\"/><line x1=\"430.428\" y1=\"496.516\" x2=\"592.995\" y2=\"555.685\" stroke-linecap=\"round\" style=\"stroke:white;stroke-width:4\"/><line x1=\"592.995\" y1=\"555.685\" x2=\"400\" y2=\"250\" stroke-linecap=\"round\" style=\"stroke:white;stroke-width:4\"/><line x1=\"400\" y1=\"250\" x2=\"272.306\" y2=\"179.218\" stroke-linecap=\"round\" style=\"stroke:white;stroke-width:4\"/><line x1=\"272.306\" y1=\"179.218\" x2=\"272.306\" y2=\"61.218\" stroke-linecap=\"round\" style=\"stroke:white;stroke-width:4\"/><line x1=\"272.306\" y1=\"61.218\" x2=\"196.025\" y2=\"145.937\" stroke-linecap=\"round\" style=\"stroke:white;stroke-width:4\"/><line x1=\"196.025\" y1=\"145.937\" x2=\"61.154\" y2=\"179.564\" stroke-linecap=\"round\" style=\"stroke:white;stroke-width:4\"/><line x1=\"61.154\" y1=\"179.564\" x2=\"-91.076\" y2=\"124.157\" stroke-linecap=\"round\" style=\"stroke:white;stroke-width:4\"/><line x1=\"-91.076\" y1=\"124.157\" x2=\"400\" y2=\"250\" stroke-linecap=\"round\" style=\"stroke:white;stroke-width:4\"/><line x1=\"400\" y1=\"250\" x2=\"306.364\" y2=\"334.31\" stroke-linecap=\"round\" style=\"stroke:white;stroke-width:4\"/><line x1=\"306.364\" y1=\"334.31\" x2=\"109.484\" y2=\"327.435\" stroke-linecap=\"round\" style=\"stroke:white;stroke-width:4\"/><line x1=\"109.484\" y1=\"327.435\" x2=\"71.017\" y2=\"160.818\" stroke-linecap=\"round\" style=\"stroke:white;stroke-width:4\"/><line x1=\"71.017\" y1=\"160.818\" x2=\"236.403\" y2=\"100.622\" stroke-linecap=\"round\" style=\"stroke:white;stroke-width:4\"/><line x1=\"236.403\" y1=\"100.622\" x2=\"209.027\" y2=\"273.467\" stroke-linecap=\"round\" style=\"stroke:white;stroke-width:4\"/><line x1=\"209.027\" y1=\"273.467\" x2=\"213.11\" y2=\"156.538\" stroke-linecap=\"round\" style=\"stroke:white;stroke-width:4\"/><line x1=\"213.11\" y1=\"156.538\" x2=\"223.667\" y2=\"256.985\" stroke-linecap=\"round\" style=\"stroke:white;stroke-width:4\"/><line x1=\"223.667\" y1=\"256.985\" x2=\"281.881\" y2=\"366.471\" stroke-linecap=\"round\" style=\"stroke:white;stroke-width:4\"/><line x1=\"281.881\" y1=\"366.471\" x2=\"195.87\" y2=\"223.324\" stroke-linecap=\"round\" style=\"stroke:white;stroke-width:4\"/><line x1=\"195.87\" y1=\"223.324\" x2=\"230.055\" y2=\"322.603\" stroke-linecap=\"round\" style=\"stroke:white;stroke-width:4\"/><line x1=\"230.055\" y1=\"322.603\" x2=\"368.719\" y2=\"364.997\" stroke-linecap=\"round\" style=\"stroke:white;stroke-width:4\"/><line x1=\"368.719\" y1=\"364.997\" x2=\"470.669\" y2=\"239.099\" stroke-linecap=\"round\" style=\"stroke:white;stroke-width:4\"/><line x1=\"470.669\" y1=\"239.099\" x2=\"370.422\" y2=\"251.408\" stroke-linecap=\"round\" style=\"stroke:white;stroke-width:4\"/><line x1=\"370.422\" y1=\"251.408\" x2=\"489.765\" y2=\"263.951\" stroke-linecap=\"round\" style=\"stroke:white;stroke-width:4\"/><line x1=\"489.765\" y1=\"263.951\" x2=\"421.543\" y2=\"162.808\" stroke-linecap=\"round\" style=\"stroke:white;stroke-width:4\"/><line x1=\"421.543\" y1=\"162.808\" x2=\"509.844\" y2=\"86.049\" stroke-linecap=\"round\" style=\"stroke:white;stroke-width:4\"/><line x1=\"509.844\" y1=\"86.049\" x2=\"400\" y2=\"250\" stroke-linecap=\"round\" style=\"stroke:white;stroke-width:4\"/><line x1=\"400\" y1=\"250\" x2=\"268.364\" y2=\"174.0\" stroke-linecap=\"round\" style=\"stroke:white;stroke-width:4\"/><line x1=\"268.364\" y1=\"174.0\" x2=\"163.648\" y2=\"312.963\" stroke-linecap=\"round\" style=\"stroke:white;stroke-width:4\"/><line x1=\"163.648\" y1=\"312.963\" x2=\"78.104\" y2=\"368.516\" stroke-linecap=\"round\" style=\"stroke:white;stroke-width:4\"/><line x1=\"78.104\" y1=\"368.516\" x2=\"7.214\" y2=\"501.841\" stroke-linecap=\"round\" style=\"stroke:white;stroke-width:4\"/><line x1=\"7.214\" y1=\"501.841\" x2=\"18.37\" y2=\"629.354\" stroke-linecap=\"round\" style=\"stroke:white;stroke-width:4\"/><line x1=\"18.37\" y1=\"629.354\" x2=\"169.924\" y2=\"716.854\" stroke-linecap=\"round\" style=\"stroke:white;stroke-width:4\"/><line x1=\"169.924\" y1=\"716.854\" x2=\"118.937\" y2=\"526.567\" stroke-linecap=\"round\" style=\"stroke:white;stroke-width:4\"/><line x1=\"118.937\" y1=\"526.567\" x2=\"221.325\" y2=\"554.002\" stroke-linecap=\"round\" style=\"stroke:white;stroke-width:4\"/><line x1=\"221.325\" y1=\"554.002\" x2=\"292.215\" y2=\"687.327\" stroke-linecap=\"round\" style=\"stroke:white;stroke-width:4\"/><line x1=\"292.215\" y1=\"687.327\" x2=\"245.862\" y2=\"829.985\" stroke-linecap=\"round\" style=\"stroke:white;stroke-width:4\"/><line x1=\"245.862\" y1=\"829.985\" x2=\"358.244\" y2=\"882.39\" stroke-linecap=\"round\" style=\"stroke:white;stroke-width:4\"/><line x1=\"358.244\" y1=\"882.39\" x2=\"211.602\" y2=\"872.136\" stroke-linecap=\"round\" style=\"stroke:white;stroke-width:4\"/><line x1=\"211.602\" y1=\"872.136\" x2=\"86.861\" y2=\"935.695\" stroke-linecap=\"round\" style=\"stroke:white;stroke-width:4\"/><line x1=\"86.861\" y1=\"935.695\" x2=\"265.564\" y2=\"997.227\" stroke-linecap=\"round\" style=\"stroke:white;stroke-width:4\"/><line x1=\"265.564\" y1=\"997.227\" x2=\"163.561\" y2=\"935.937\" stroke-linecap=\"round\" style=\"stroke:white;stroke-width:4\"/><line x1=\"163.561\" y1=\"935.937\" x2=\"107.938\" y2=\"764.747\" stroke-linecap=\"round\" style=\"stroke:white;stroke-width:4\"/><line x1=\"107.938\" y1=\"764.747\" x2=\"298.909\" y2=\"768.08\" stroke-linecap=\"round\" style=\"stroke:white;stroke-width:4\"/><line x1=\"298.909\" y1=\"768.08\" x2=\"292.557\" y2=\"586.191\" stroke-linecap=\"round\" style=\"stroke:white;stroke-width:4\"/><line x1=\"292.557\" y1=\"586.191\" x2=\"426.626\" y2=\"725.024\" stroke-linecap=\"round\" style=\"stroke:white;stroke-width:4\"/><line x1=\"426.626\" y1=\"725.024\" x2=\"442.631\" y2=\"611.143\" stroke-linecap=\"round\" style=\"stroke:white;stroke-width:4\"/><line x1=\"442.631\" y1=\"611.143\" x2=\"390.186\" y2=\"481.337\" stroke-linecap=\"round\" style=\"stroke:white;stroke-width:4\"/><line x1=\"390.186\" y1=\"481.337\" x2=\"441.433\" y2=\"614.839\" stroke-linecap=\"round\" style=\"stroke:white;stroke-width:4\"/><line x1=\"441.433\" y1=\"614.839\" x2=\"474.951\" y2=\"760.02\" stroke-linecap=\"round\" style=\"stroke:white;stroke-width:4\"/><line x1=\"474.951\" y1=\"760.02\" x2=\"324.947\" y2=\"669.888\" stroke-linecap=\"round\" style=\"stroke:white;stroke-width:4\"/><line x1=\"324.947\" y1=\"669.888\" x2=\"302.733\" y2=\"529.636\" stroke-linecap=\"round\" style=\"stroke:white;stroke-width:4\"/><line x1=\"302.733\" y1=\"529.636\" x2=\"424.996\" y2=\"635.918\" stroke-linecap=\"round\" style=\"stroke:white;stroke-width:4\"/><line x1=\"424.996\" y1=\"635.918\" x2=\"363.623\" y2=\"723.567\" stroke-linecap=\"round\" style=\"stroke:white;stroke-width:4\"/><line x1=\"363.623\" y1=\"723.567\" x2=\"481.365\" y2=\"780.994\" stroke-linecap=\"round\" style=\"stroke:white;stroke-width:4\"/><line x1=\"481.365\" y1=\"780.994\" x2=\"491.998\" y2=\"902.53\" stroke-linecap=\"round\" style=\"stroke:white;stroke-width:4\"/><line x1=\"491.998\" y1=\"902.53\" x2=\"596.038\" y2=\"996.208\" stroke-linecap=\"round\" style=\"stroke:white;stroke-width:4\"/><line x1=\"596.038\" y1=\"996.208\" x2=\"400\" y2=\"250\" stroke-linecap=\"round\" style=\"stroke:white;stroke-width:4\"/><line x1=\"400\" y1=\"250\" x2=\"567.361\" y2=\"264.642\" stroke-linecap=\"round\" style=\"stroke:white;stroke-width:4\"/><line x1=\"567.361\" y1=\"264.642\" x2=\"400\" y2=\"250\" stroke-linecap=\"round\" style=\"stroke:white;stroke-width:4\"/><line x1=\"400\" y1=\"250\" x2=\"279.87\" y2=\"366.008\" stroke-linecap=\"round\" style=\"stroke:white;stroke-width:4\"/><line x1=\"279.87\" y1=\"366.008\" x2=\"432.665\" y2=\"440.531\" stroke-linecap=\"round\" style=\"stroke:white;stroke-width:4\"/><line x1=\"432.665\" y1=\"440.531\" x2=\"559.809\" y2=\"508.135\" stroke-linecap=\"round\" style=\"stroke:white;stroke-width:4\"/><line x1=\"559.809\" y1=\"508.135\" x2=\"400\" y2=\"250\" stroke-linecap=\"round\" style=\"stroke:white;stroke-width:4\"/><line x1=\"400\" y1=\"250\" x2=\"476.873\" y2=\"422.66\" stroke-linecap=\"round\" style=\"stroke:white;stroke-width:4\"/><line x1=\"476.873\" y1=\"422.66\" x2=\"294.938\" y2=\"383.988\" stroke-linecap=\"round\" style=\"stroke:white;stroke-width:4\"/><line x1=\"294.938\" y1=\"383.988\" x2=\"378.668\" y2=\"491.157\" stroke-linecap=\"round\" style=\"stroke:white;stroke-width:4\"/><line x1=\"378.668\" y1=\"491.157\" x2=\"401.458\" y2=\"676.763\" stroke-linecap=\"round\" style=\"stroke:white;stroke-width:4\"/><line x1=\"401.458\" y1=\"676.763\" x2=\"437.712\" y2=\"776.37\" stroke-linecap=\"round\" style=\"stroke:white;stroke-width:4\"/><line x1=\"437.712\" y1=\"776.37\" x2=\"448.106\" y2=\"627.733\" stroke-linecap=\"round\" style=\"stroke:white;stroke-width:4\"/><line x1=\"448.106\" y1=\"627.733\" x2=\"571.023\" y2=\"585.409\" stroke-linecap=\"round\" style=\"stroke:white;stroke-width:4\"/><line x1=\"571.023\" y1=\"585.409\" x2=\"400\" y2=\"250\" stroke-linecap=\"round\" style=\"stroke:white;stroke-width:4\"/><line x1=\"400\" y1=\"250\" x2=\"249.811\" y2=\"220.806\" stroke-linecap=\"round\" style=\"stroke:white;stroke-width:4\"/><line x1=\"249.811\" y1=\"220.806\" x2=\"96.334\" y2=\"121.137\" stroke-linecap=\"round\" style=\"stroke:white;stroke-width:4\"/><line x1=\"96.334\" y1=\"121.137\" x2=\"169.469\" y2=\"189.337\" stroke-linecap=\"round\" style=\"stroke:white;stroke-width:4\"/><line x1=\"169.469\" y1=\"189.337\" x2=\"21.285\" y2=\"173.762\" stroke-linecap=\"round\" style=\"stroke:white;stroke-width:4\"/><line x1=\"21.285\" y1=\"173.762\" x2=\"-42.438\" y2=\"75.638\" stroke-linecap=\"round\" style=\"stroke:white;stroke-width:4\"/><line x1=\"-42.438\" y1=\"75.638\" x2=\"400\" y2=\"250\" stroke-linecap=\"round\" style=\"stroke:white;stroke-width:4\"/><line x1=\"400\" y1=\"250\" x2=\"558.395\" y2=\"263.858\" stroke-linecap=\"round\" style=\"stroke:white;stroke-width:4\"/><line x1=\"558.395\" y1=\"263.858\" x2=\"400\" y2=\"250\" stroke-linecap=\"round\" style=\"stroke:white;stroke-width:4\"/><line x1=\"400\" y1=\"250\" x2=\"585.523\" y2=\"306.72\" stroke-linecap=\"round\" style=\"stroke:white;stroke-width:4\"/><line x1=\"585.523\" y1=\"306.72\" x2=\"400\" y2=\"250\" stroke-linecap=\"round\" style=\"stroke:white;stroke-width:4\"/><line x1=\"400\" y1=\"250\" x2=\"305.23\" y2=\"311.544\" stroke-linecap=\"round\" style=\"stroke:white;stroke-width:4\"/><line x1=\"305.23\" y1=\"311.544\" x2=\"399.486\" y2=\"355.496\" stroke-linecap=\"round\" style=\"stroke:white;stroke-width:4\"/><line x1=\"399.486\" y1=\"355.496\" x2=\"306.91\" y2=\"400.648\" stroke-linecap=\"round\" style=\"stroke:white;stroke-width:4\"/><line x1=\"306.91\" y1=\"400.648\" x2=\"238.024\" y2=\"321.403\" stroke-linecap=\"round\" style=\"stroke:white;stroke-width:4\"/><line x1=\"238.024\" y1=\"321.403\" x2=\"147.938\" y2=\"271.468\" stroke-linecap=\"round\" style=\"stroke:white;stroke-width:4\"/><line x1=\"147.938\" y1=\"271.468\" x2=\"111.278\" y2=\"143.62\" stroke-linecap=\"round\" style=\"stroke:white;stroke-width:4\"/><line x1=\"111.278\" y1=\"143.62\" x2=\"50.056\" y2=\"311.825\" stroke-linecap=\"round\" style=\"stroke:white;stroke-width:4\"/><line x1=\"50.056\" y1=\"311.825\" x2=\"-20.872\" y2=\"390.598\" stroke-linecap=\"round\" style=\"stroke:white;stroke-width:4\"/><line x1=\"-20.872\" y1=\"390.598\" x2=\"400\" y2=\"250\" stroke-linecap=\"round\" style=\"stroke:white;stroke-width:4\"/><line x1=\"400\" y1=\"250\" x2=\"334.886\" y2=\"439.104\" stroke-linecap=\"round\" style=\"stroke:white;stroke-width:4\"/><line x1=\"334.886\" y1=\"439.104\" x2=\"408.699\" y2=\"548.537\" stroke-linecap=\"round\" style=\"stroke:white;stroke-width:4\"/><line x1=\"408.699\" y1=\"548.537\" x2=\"495.103\" y2=\"429.612\" stroke-linecap=\"round\" style=\"stroke:white;stroke-width:4\"/><line x1=\"495.103\" y1=\"429.612\" x2=\"625.127\" y2=\"445.577\" stroke-linecap=\"round\" style=\"stroke:white;stroke-width:4\"/><line x1=\"625.127\" y1=\"445.577\" x2=\"400\" y2=\"250\" stroke-linecap=\"round\" style=\"stroke:white;stroke-width:4\"/><line x1=\"400\" y1=\"250\" x2=\"514.898\" y2=\"324.616\" stroke-linecap=\"round\" style=\"stroke:white;stroke-width:4\"/><line x1=\"514.898\" y1=\"324.616\" x2=\"400\" y2=\"250\" stroke-linecap=\"round\" style=\"stroke:white;stroke-width:4\"/><line x1=\"400\" y1=\"250\" x2=\"273.967\" y2=\"298.38\" stroke-linecap=\"round\" style=\"stroke:white;stroke-width:4\"/><line x1=\"273.967\" y1=\"298.38\" x2=\"152.602\" y2=\"251.792\" stroke-linecap=\"round\" style=\"stroke:white;stroke-width:4\"/><line x1=\"152.602\" y1=\"251.792\" x2=\"107.454\" y2=\"150.388\" stroke-linecap=\"round\" style=\"stroke:white;stroke-width:4\"/><line x1=\"107.454\" y1=\"150.388\" x2=\"100.544\" y2=\"-47.491\" stroke-linecap=\"round\" style=\"stroke:white;stroke-width:4\"/><line x1=\"100.544\" y1=\"-47.491\" x2=\"400\" y2=\"250\" stroke-linecap=\"round\" style=\"stroke:white;stroke-width:4\"/><line x1=\"400\" y1=\"250\" x2=\"504.571\" y2=\"88.975\" stroke-linecap=\"round\" style=\"stroke:white;stroke-width:4\"/>\n",
              "        <g visibility=visible transform=\"rotate(393,504.571,88.975) translate(486.571, 70.975)\">\n",
              "<path style=\" stroke:none;fill-rule:evenodd;fill:white;fill-opacity:1;\" d=\"M 18.214844 0.632812 C 16.109375 1.800781 15.011719 4.074219 15.074219 7.132812 L 15.085938 7.652344 L 14.785156 7.496094 C 13.476562 6.824219 11.957031 6.671875 10.40625 7.066406 C 8.46875 7.550781 6.515625 9.15625 4.394531 11.992188 C 3.0625 13.777344 2.679688 14.636719 3.042969 15.027344 L 3.15625 15.152344 L 3.519531 15.152344 C 4.238281 15.152344 4.828125 14.886719 8.1875 13.039062 C 9.386719 12.378906 10.371094 11.839844 10.378906 11.839844 C 10.386719 11.839844 10.355469 11.929688 10.304688 12.035156 C 9.832031 13.09375 9.257812 14.820312 8.96875 16.078125 C 7.914062 20.652344 8.617188 24.53125 11.070312 27.660156 C 11.351562 28.015625 11.363281 27.914062 10.972656 28.382812 C 8.925781 30.84375 7.945312 33.28125 8.238281 35.1875 C 8.289062 35.527344 8.28125 35.523438 8.917969 35.523438 C 10.941406 35.523438 13.074219 34.207031 15.136719 31.6875 C 15.359375 31.417969 15.328125 31.425781 15.5625 31.574219 C 16.292969 32.042969 18.023438 32.964844 18.175781 32.964844 C 18.335938 32.964844 19.941406 32.210938 20.828125 31.71875 C 20.996094 31.625 21.136719 31.554688 21.136719 31.558594 C 21.203125 31.664062 21.898438 32.414062 22.222656 32.730469 C 23.835938 34.300781 25.5625 35.132812 27.582031 35.300781 C 27.90625 35.328125 27.9375 35.308594 28.007812 34.984375 C 28.382812 33.242188 27.625 30.925781 25.863281 28.425781 L 25.542969 27.96875 L 25.699219 27.785156 C 28.945312 23.960938 29.132812 18.699219 26.257812 11.96875 L 26.207031 11.84375 L 27.945312 12.703125 C 31.53125 14.476562 32.316406 14.800781 33.03125 14.800781 C 33.976562 14.800781 33.78125 13.9375 32.472656 12.292969 C 28.519531 7.355469 25.394531 5.925781 21.921875 7.472656 L 21.558594 7.636719 L 21.578125 7.542969 C 21.699219 6.992188 21.761719 5.742188 21.699219 5.164062 C 21.496094 3.296875 20.664062 1.964844 19.003906 0.855469 C 18.480469 0.503906 18.457031 0.5 18.214844 0.632812\"/>\n",
              "</g>\n",
              "      </svg>\n",
              "    "
            ]
          },
          "metadata": {}
        },
        {
          "output_type": "error",
          "ename": "KeyboardInterrupt",
          "evalue": "ignored",
          "traceback": [
            "\u001b[0;31m---------------------------------------------------------------------------\u001b[0m",
            "\u001b[0;31mKeyboardInterrupt\u001b[0m                         Traceback (most recent call last)",
            "\u001b[0;32m<ipython-input-40-70d5b992e88b>\u001b[0m in \u001b[0;36m<module>\u001b[0;34m\u001b[0m\n\u001b[1;32m     10\u001b[0m   \u001b[0;32mif\u001b[0m \u001b[0;36m800\u001b[0m \u001b[0;34m<=\u001b[0m \u001b[0mturtle\u001b[0m\u001b[0;34m.\u001b[0m\u001b[0mgetx\u001b[0m\u001b[0;34m(\u001b[0m\u001b[0;34m)\u001b[0m \u001b[0;32mor\u001b[0m \u001b[0mturtle\u001b[0m\u001b[0;34m.\u001b[0m\u001b[0mgetx\u001b[0m\u001b[0;34m(\u001b[0m\u001b[0;34m)\u001b[0m \u001b[0;34m<=\u001b[0m \u001b[0;36m0\u001b[0m \u001b[0;32mor\u001b[0m\u001b[0;31m \u001b[0m\u001b[0;31m\\\u001b[0m\u001b[0;34m\u001b[0m\u001b[0;34m\u001b[0m\u001b[0m\n\u001b[1;32m     11\u001b[0m   \u001b[0;36m500\u001b[0m \u001b[0;34m<=\u001b[0m \u001b[0mturtle\u001b[0m\u001b[0;34m.\u001b[0m\u001b[0mgetx\u001b[0m\u001b[0;34m(\u001b[0m\u001b[0;34m)\u001b[0m \u001b[0;32mor\u001b[0m \u001b[0mturtle\u001b[0m\u001b[0;34m.\u001b[0m\u001b[0mgety\u001b[0m\u001b[0;34m(\u001b[0m\u001b[0;34m)\u001b[0m \u001b[0;34m<=\u001b[0m\u001b[0;36m0\u001b[0m\u001b[0;34m:\u001b[0m\u001b[0;34m\u001b[0m\u001b[0;34m\u001b[0m\u001b[0m\n\u001b[0;32m---> 12\u001b[0;31m     \u001b[0mturtle\u001b[0m\u001b[0;34m.\u001b[0m\u001b[0mgoto\u001b[0m\u001b[0;34m(\u001b[0m\u001b[0;36m400\u001b[0m\u001b[0;34m,\u001b[0m\u001b[0;36m250\u001b[0m\u001b[0;34m)\u001b[0m\u001b[0;34m\u001b[0m\u001b[0;34m\u001b[0m\u001b[0m\n\u001b[0m\u001b[1;32m     13\u001b[0m \u001b[0;34m\u001b[0m\u001b[0m\n",
            "\u001b[0;32m/usr/local/lib/python3.7/dist-packages/ColabTurtle/Turtle.py\u001b[0m in \u001b[0;36mgoto\u001b[0;34m(x, y)\u001b[0m\n\u001b[1;32m    324\u001b[0m     \u001b[0;32mif\u001b[0m \u001b[0my\u001b[0m \u001b[0;34m<\u001b[0m \u001b[0;36m0\u001b[0m\u001b[0;34m:\u001b[0m\u001b[0;34m\u001b[0m\u001b[0;34m\u001b[0m\u001b[0m\n\u001b[1;32m    325\u001b[0m         \u001b[0;32mraise\u001b[0m \u001b[0mValueError\u001b[0m\u001b[0;34m(\u001b[0m\u001b[0;34m'new y position must be non-negative.'\u001b[0m\u001b[0;34m)\u001b[0m\u001b[0;34m\u001b[0m\u001b[0;34m\u001b[0m\u001b[0m\n\u001b[0;32m--> 326\u001b[0;31m     \u001b[0m_moveToNewPosition\u001b[0m\u001b[0;34m(\u001b[0m\u001b[0;34m(\u001b[0m\u001b[0mx\u001b[0m\u001b[0;34m,\u001b[0m \u001b[0my\u001b[0m\u001b[0;34m)\u001b[0m\u001b[0;34m)\u001b[0m\u001b[0;34m\u001b[0m\u001b[0;34m\u001b[0m\u001b[0m\n\u001b[0m\u001b[1;32m    327\u001b[0m \u001b[0;34m\u001b[0m\u001b[0m\n\u001b[1;32m    328\u001b[0m \u001b[0msetpos\u001b[0m \u001b[0;34m=\u001b[0m \u001b[0mgoto\u001b[0m \u001b[0;31m# alias\u001b[0m\u001b[0;34m\u001b[0m\u001b[0;34m\u001b[0m\u001b[0m\n",
            "\u001b[0;32m/usr/local/lib/python3.7/dist-packages/ColabTurtle/Turtle.py\u001b[0m in \u001b[0;36m_moveToNewPosition\u001b[0;34m(new_pos)\u001b[0m\n\u001b[1;32m    161\u001b[0m \u001b[0;34m\u001b[0m\u001b[0m\n\u001b[1;32m    162\u001b[0m     \u001b[0mturtle_pos\u001b[0m \u001b[0;34m=\u001b[0m \u001b[0mnew_pos\u001b[0m\u001b[0;34m\u001b[0m\u001b[0;34m\u001b[0m\u001b[0m\n\u001b[0;32m--> 163\u001b[0;31m     \u001b[0m_updateDrawing\u001b[0m\u001b[0;34m(\u001b[0m\u001b[0;34m)\u001b[0m\u001b[0;34m\u001b[0m\u001b[0;34m\u001b[0m\u001b[0m\n\u001b[0m\u001b[1;32m    164\u001b[0m \u001b[0;34m\u001b[0m\u001b[0m\n\u001b[1;32m    165\u001b[0m \u001b[0;34m\u001b[0m\u001b[0m\n",
            "\u001b[0;32m/usr/local/lib/python3.7/dist-packages/ColabTurtle/Turtle.py\u001b[0m in \u001b[0;36m_updateDrawing\u001b[0;34m()\u001b[0m\n\u001b[1;32m    143\u001b[0m     \u001b[0;32mif\u001b[0m \u001b[0mdrawing_window\u001b[0m \u001b[0;34m==\u001b[0m \u001b[0;32mNone\u001b[0m\u001b[0;34m:\u001b[0m\u001b[0;34m\u001b[0m\u001b[0;34m\u001b[0m\u001b[0m\n\u001b[1;32m    144\u001b[0m         \u001b[0;32mraise\u001b[0m \u001b[0mAttributeError\u001b[0m\u001b[0;34m(\u001b[0m\u001b[0;34m\"Display has not been initialized yet. Call initializeTurtle() before using.\"\u001b[0m\u001b[0;34m)\u001b[0m\u001b[0;34m\u001b[0m\u001b[0;34m\u001b[0m\u001b[0m\n\u001b[0;32m--> 145\u001b[0;31m     \u001b[0mtime\u001b[0m\u001b[0;34m.\u001b[0m\u001b[0msleep\u001b[0m\u001b[0;34m(\u001b[0m\u001b[0m_speedToSec\u001b[0m\u001b[0;34m(\u001b[0m\u001b[0mturtle_speed\u001b[0m\u001b[0;34m)\u001b[0m\u001b[0;34m)\u001b[0m\u001b[0;34m\u001b[0m\u001b[0;34m\u001b[0m\u001b[0m\n\u001b[0m\u001b[1;32m    146\u001b[0m     \u001b[0mdrawing_window\u001b[0m\u001b[0;34m.\u001b[0m\u001b[0mupdate\u001b[0m\u001b[0;34m(\u001b[0m\u001b[0mHTML\u001b[0m\u001b[0;34m(\u001b[0m\u001b[0m_generateSvgDrawing\u001b[0m\u001b[0;34m(\u001b[0m\u001b[0;34m)\u001b[0m\u001b[0;34m)\u001b[0m\u001b[0;34m)\u001b[0m\u001b[0;34m\u001b[0m\u001b[0;34m\u001b[0m\u001b[0m\n\u001b[1;32m    147\u001b[0m \u001b[0;34m\u001b[0m\u001b[0m\n",
            "\u001b[0;31mKeyboardInterrupt\u001b[0m: "
          ]
        }
      ]
    },
    {
      "cell_type": "markdown",
      "source": [],
      "metadata": {
        "id": "iSGkwb4InnII"
      }
    },
    {
      "cell_type": "code",
      "source": [
        "#!pip3 install ColabTurtle\n",
        "import ColabTurtle.Turtle as turtle\n",
        "import random\n",
        "print(turtle.DEFAULT_WINDOW_SIZE)\n",
        "turtle.initializeTurtle()\n",
        "\n",
        "while True :\n",
        "  turtle.left(random.randint(0,360))\n",
        "  turtle.color((random.randint(0,255), random.randint(0,255), random.randint(0,255)))\n",
        "  turtle.forward(random.randint(100,200))\n",
        "  if 800 <= turtle.getx() or turtle.getx() <= 0 or \\\n",
        "  500 <= turtle.getx() or turtle.gety() <=0:\n",
        "    turtle.goto(400,250)\n",
        " \n"
      ],
      "metadata": {
        "colab": {
          "base_uri": "https://localhost:8080/",
          "height": 392
        },
        "id": "nIhhpaTpkR9X",
        "outputId": "8c4a5888-bd32-429e-b591-153cde1d59b6"
      },
      "execution_count": 1,
      "outputs": [
        {
          "output_type": "error",
          "ename": "ModuleNotFoundError",
          "evalue": "ignored",
          "traceback": [
            "\u001b[0;31m---------------------------------------------------------------------------\u001b[0m",
            "\u001b[0;31mModuleNotFoundError\u001b[0m                       Traceback (most recent call last)",
            "\u001b[0;32m<ipython-input-1-0ef08f8621ce>\u001b[0m in \u001b[0;36m<module>\u001b[0;34m\u001b[0m\n\u001b[1;32m      1\u001b[0m \u001b[0;31m#!pip3 install ColabTurtle\u001b[0m\u001b[0;34m\u001b[0m\u001b[0;34m\u001b[0m\u001b[0;34m\u001b[0m\u001b[0m\n\u001b[0;32m----> 2\u001b[0;31m \u001b[0;32mimport\u001b[0m \u001b[0mColabTurtle\u001b[0m\u001b[0;34m.\u001b[0m\u001b[0mTurtle\u001b[0m \u001b[0;32mas\u001b[0m \u001b[0mturtle\u001b[0m\u001b[0;34m\u001b[0m\u001b[0;34m\u001b[0m\u001b[0m\n\u001b[0m\u001b[1;32m      3\u001b[0m \u001b[0;32mimport\u001b[0m \u001b[0mrandom\u001b[0m\u001b[0;34m\u001b[0m\u001b[0;34m\u001b[0m\u001b[0m\n\u001b[1;32m      4\u001b[0m \u001b[0mprint\u001b[0m\u001b[0;34m(\u001b[0m\u001b[0mturtle\u001b[0m\u001b[0;34m.\u001b[0m\u001b[0mDEFAULT_WINDOW_SIZE\u001b[0m\u001b[0;34m)\u001b[0m\u001b[0;34m\u001b[0m\u001b[0;34m\u001b[0m\u001b[0m\n\u001b[1;32m      5\u001b[0m \u001b[0mturtle\u001b[0m\u001b[0;34m.\u001b[0m\u001b[0minitializeTurtle\u001b[0m\u001b[0;34m(\u001b[0m\u001b[0;34m)\u001b[0m\u001b[0;34m\u001b[0m\u001b[0;34m\u001b[0m\u001b[0m\n",
            "\u001b[0;31mModuleNotFoundError\u001b[0m: No module named 'ColabTurtle'",
            "",
            "\u001b[0;31m---------------------------------------------------------------------------\u001b[0;32m\nNOTE: If your import is failing due to a missing package, you can\nmanually install dependencies using either !pip or !apt.\n\nTo view examples of installing some common dependencies, click the\n\"Open Examples\" button below.\n\u001b[0;31m---------------------------------------------------------------------------\u001b[0m\n"
          ],
          "errorDetails": {
            "actions": [
              {
                "action": "open_url",
                "actionText": "Open Examples",
                "url": "/notebooks/snippets/importing_libraries.ipynb"
              }
            ]
          }
        }
      ]
    },
    {
      "cell_type": "markdown",
      "source": [
        "형성평가 구구단 계산기 만들기"
      ],
      "metadata": {
        "id": "rwBJLof8-Fon"
      }
    },
    {
      "cell_type": "code",
      "source": [
        "i = 0\n",
        "j = 0\n",
        "\n",
        "for i in range(2, 10) :\n",
        "  for j in range(1, 10) :\n",
        "    print(i, \"X\", j, \"=\", i * j)\n",
        "  print(\"\")"
      ],
      "metadata": {
        "id": "TtwvGFIMoc9p",
        "colab": {
          "base_uri": "https://localhost:8080/"
        },
        "outputId": "8351e4cb-e7e4-4d7e-fda9-e8897d6c36cc"
      },
      "execution_count": 5,
      "outputs": [
        {
          "output_type": "stream",
          "name": "stdout",
          "text": [
            "2 X 1 = 2\n",
            "2 X 2 = 4\n",
            "2 X 3 = 6\n",
            "2 X 4 = 8\n",
            "2 X 5 = 10\n",
            "2 X 6 = 12\n",
            "2 X 7 = 14\n",
            "2 X 8 = 16\n",
            "2 X 9 = 18\n",
            "\n",
            "3 X 1 = 3\n",
            "3 X 2 = 6\n",
            "3 X 3 = 9\n",
            "3 X 4 = 12\n",
            "3 X 5 = 15\n",
            "3 X 6 = 18\n",
            "3 X 7 = 21\n",
            "3 X 8 = 24\n",
            "3 X 9 = 27\n",
            "\n",
            "4 X 1 = 4\n",
            "4 X 2 = 8\n",
            "4 X 3 = 12\n",
            "4 X 4 = 16\n",
            "4 X 5 = 20\n",
            "4 X 6 = 24\n",
            "4 X 7 = 28\n",
            "4 X 8 = 32\n",
            "4 X 9 = 36\n",
            "\n",
            "5 X 1 = 5\n",
            "5 X 2 = 10\n",
            "5 X 3 = 15\n",
            "5 X 4 = 20\n",
            "5 X 5 = 25\n",
            "5 X 6 = 30\n",
            "5 X 7 = 35\n",
            "5 X 8 = 40\n",
            "5 X 9 = 45\n",
            "\n",
            "6 X 1 = 6\n",
            "6 X 2 = 12\n",
            "6 X 3 = 18\n",
            "6 X 4 = 24\n",
            "6 X 5 = 30\n",
            "6 X 6 = 36\n",
            "6 X 7 = 42\n",
            "6 X 8 = 48\n",
            "6 X 9 = 54\n",
            "\n",
            "7 X 1 = 7\n",
            "7 X 2 = 14\n",
            "7 X 3 = 21\n",
            "7 X 4 = 28\n",
            "7 X 5 = 35\n",
            "7 X 6 = 42\n",
            "7 X 7 = 49\n",
            "7 X 8 = 56\n",
            "7 X 9 = 63\n",
            "\n",
            "8 X 1 = 8\n",
            "8 X 2 = 16\n",
            "8 X 3 = 24\n",
            "8 X 4 = 32\n",
            "8 X 5 = 40\n",
            "8 X 6 = 48\n",
            "8 X 7 = 56\n",
            "8 X 8 = 64\n",
            "8 X 9 = 72\n",
            "\n",
            "9 X 1 = 9\n",
            "9 X 2 = 18\n",
            "9 X 3 = 27\n",
            "9 X 4 = 36\n",
            "9 X 5 = 45\n",
            "9 X 6 = 54\n",
            "9 X 7 = 63\n",
            "9 X 8 = 72\n",
            "9 X 9 = 81\n",
            "\n"
          ]
        }
      ]
    },
    {
      "cell_type": "markdown",
      "source": [
        "while 문의 무한 반복"
      ],
      "metadata": {
        "id": "4jD70PRUAWom"
      }
    },
    {
      "cell_type": "code",
      "source": [
        "while True :\n",
        "  num1 = input(\"숫자1 ==> \")\n",
        "  if num1 == \"0\" : break\n",
        "  num2 = input(\"숫자2 ==> \")\n",
        "  result = float(num1) + float(num2)\n",
        "  print(num1, \"+\", num2, \"=\", result)"
      ],
      "metadata": {
        "colab": {
          "base_uri": "https://localhost:8080/"
        },
        "id": "s0GoJbPR_wJX",
        "outputId": "5b44f219-f5c9-4437-e256-ccf2ffb03325"
      },
      "execution_count": 14,
      "outputs": [
        {
          "name": "stdout",
          "output_type": "stream",
          "text": [
            "숫자1 ==> 9.\n",
            "숫자2 ==> 5\n",
            "9. + 5 = 14.0\n",
            "숫자1 ==> 9.\n",
            "숫자2 ==> 5\n",
            "9. + 5 = 14.0\n",
            "숫자1 ==> 9\n",
            "숫자2 ==> 5\n",
            "9 + 5 = 14.0\n",
            "숫자1 ==> 0\n"
          ]
        }
      ]
    },
    {
      "cell_type": "markdown",
      "source": [
        "형성평가 주사위 3개를 동시에 던져 동일한 숫자 나오기"
      ],
      "metadata": {
        "id": "eQXcL4ZHC05v"
      }
    },
    {
      "cell_type": "code",
      "source": [
        "import random\n",
        "count = 0\n",
        "while True : \n",
        "  r1, r2 = random.randint(1,6), random.randint(1,6)\n",
        "  r3 = random.randint(1,6)\n",
        "  count = count + 1\n",
        "  if r1 == r2 == r3 : break\n",
        "print(\"3개의 주사위는 모두\", r1,\"나왔다.\" )\n",
        "print(\"같은 숫자가 나오기까지\", count, \"번 던졌습니다.\")"
      ],
      "metadata": {
        "colab": {
          "base_uri": "https://localhost:8080/"
        },
        "id": "cLZiINo5Dt6I",
        "outputId": "82f48cdd-d8fb-428c-ae5c-c47313237bbb"
      },
      "execution_count": 17,
      "outputs": [
        {
          "output_type": "stream",
          "name": "stdout",
          "text": [
            "3개의 주사위는 모두 5 나왔다.\n",
            "같은 숫자가 나오기까지 51 번 던졌습니다.\n"
          ]
        }
      ]
    },
    {
      "cell_type": "markdown",
      "source": [
        "형성평가 컴퓨터와 인간의 숫자 맞히기 대결"
      ],
      "metadata": {
        "id": "mGU3ym12F7R3"
      }
    },
    {
      "cell_type": "code",
      "source": [
        "import random\n",
        "\n",
        "computer, user = 0,0\n",
        "\n",
        "for i in range(1,11) :\n",
        "  computer = random.randint(1,5)\n",
        "  print(\"게임\", i, \"회\", end = '')\n",
        "  user = int(input(\"컴퓨터가 생각한 숫자는 ? \"))\n",
        "\n",
        "  if computer == user :\n",
        "    print(\"맞혔네요. 축하합니다!!\")\n",
        "    break\n",
        "  else :\n",
        "    print(\"아까워요.\", computer, \"였는데요. 다시 해보세요.ㅠ\")\n",
        "    continue\n",
        "print(\"게임을 마칩니다.\")"
      ],
      "metadata": {
        "colab": {
          "base_uri": "https://localhost:8080/",
          "height": 416
        },
        "id": "5Ql7bnhoGkP5",
        "outputId": "0bf037e5-14a7-4273-9001-fb0eb68fa35b"
      },
      "execution_count": 19,
      "outputs": [
        {
          "output_type": "stream",
          "name": "stdout",
          "text": [
            "게임 1 회"
          ]
        },
        {
          "output_type": "error",
          "ename": "KeyboardInterrupt",
          "evalue": "ignored",
          "traceback": [
            "\u001b[0;31m---------------------------------------------------------------------------\u001b[0m",
            "\u001b[0;31mKeyboardInterrupt\u001b[0m                         Traceback (most recent call last)",
            "\u001b[0;32m<ipython-input-19-8477c9e77857>\u001b[0m in \u001b[0;36m<module>\u001b[0;34m\u001b[0m\n\u001b[1;32m      6\u001b[0m   \u001b[0mcomputer\u001b[0m \u001b[0;34m=\u001b[0m \u001b[0mrandom\u001b[0m\u001b[0;34m.\u001b[0m\u001b[0mrandint\u001b[0m\u001b[0;34m(\u001b[0m\u001b[0;36m1\u001b[0m\u001b[0;34m,\u001b[0m\u001b[0;36m5\u001b[0m\u001b[0;34m)\u001b[0m\u001b[0;34m\u001b[0m\u001b[0;34m\u001b[0m\u001b[0m\n\u001b[1;32m      7\u001b[0m   \u001b[0mprint\u001b[0m\u001b[0;34m(\u001b[0m\u001b[0;34m\"게임\"\u001b[0m\u001b[0;34m,\u001b[0m \u001b[0mi\u001b[0m\u001b[0;34m,\u001b[0m \u001b[0;34m\"회\"\u001b[0m\u001b[0;34m,\u001b[0m \u001b[0mend\u001b[0m \u001b[0;34m=\u001b[0m \u001b[0;34m''\u001b[0m\u001b[0;34m)\u001b[0m\u001b[0;34m\u001b[0m\u001b[0;34m\u001b[0m\u001b[0m\n\u001b[0;32m----> 8\u001b[0;31m   \u001b[0muser\u001b[0m \u001b[0;34m=\u001b[0m \u001b[0mint\u001b[0m\u001b[0;34m(\u001b[0m\u001b[0minput\u001b[0m\u001b[0;34m(\u001b[0m\u001b[0;34m\"컴퓨터가 생각한 숫자는 ? \"\u001b[0m\u001b[0;34m)\u001b[0m\u001b[0;34m)\u001b[0m\u001b[0;34m\u001b[0m\u001b[0;34m\u001b[0m\u001b[0m\n\u001b[0m\u001b[1;32m      9\u001b[0m \u001b[0;34m\u001b[0m\u001b[0m\n\u001b[1;32m     10\u001b[0m   \u001b[0;32mif\u001b[0m \u001b[0mcomputer\u001b[0m \u001b[0;34m==\u001b[0m \u001b[0muser\u001b[0m \u001b[0;34m:\u001b[0m\u001b[0;34m\u001b[0m\u001b[0;34m\u001b[0m\u001b[0m\n",
            "\u001b[0;32m/usr/local/lib/python3.7/dist-packages/ipykernel/kernelbase.py\u001b[0m in \u001b[0;36mraw_input\u001b[0;34m(self, prompt)\u001b[0m\n\u001b[1;32m    861\u001b[0m             \u001b[0mself\u001b[0m\u001b[0;34m.\u001b[0m\u001b[0m_parent_ident\u001b[0m\u001b[0;34m,\u001b[0m\u001b[0;34m\u001b[0m\u001b[0;34m\u001b[0m\u001b[0m\n\u001b[1;32m    862\u001b[0m             \u001b[0mself\u001b[0m\u001b[0;34m.\u001b[0m\u001b[0m_parent_header\u001b[0m\u001b[0;34m,\u001b[0m\u001b[0;34m\u001b[0m\u001b[0;34m\u001b[0m\u001b[0m\n\u001b[0;32m--> 863\u001b[0;31m             \u001b[0mpassword\u001b[0m\u001b[0;34m=\u001b[0m\u001b[0;32mFalse\u001b[0m\u001b[0;34m,\u001b[0m\u001b[0;34m\u001b[0m\u001b[0;34m\u001b[0m\u001b[0m\n\u001b[0m\u001b[1;32m    864\u001b[0m         )\n\u001b[1;32m    865\u001b[0m \u001b[0;34m\u001b[0m\u001b[0m\n",
            "\u001b[0;32m/usr/local/lib/python3.7/dist-packages/ipykernel/kernelbase.py\u001b[0m in \u001b[0;36m_input_request\u001b[0;34m(self, prompt, ident, parent, password)\u001b[0m\n\u001b[1;32m    902\u001b[0m             \u001b[0;32mexcept\u001b[0m \u001b[0mKeyboardInterrupt\u001b[0m\u001b[0;34m:\u001b[0m\u001b[0;34m\u001b[0m\u001b[0;34m\u001b[0m\u001b[0m\n\u001b[1;32m    903\u001b[0m                 \u001b[0;31m# re-raise KeyboardInterrupt, to truncate traceback\u001b[0m\u001b[0;34m\u001b[0m\u001b[0;34m\u001b[0m\u001b[0;34m\u001b[0m\u001b[0m\n\u001b[0;32m--> 904\u001b[0;31m                 \u001b[0;32mraise\u001b[0m \u001b[0mKeyboardInterrupt\u001b[0m\u001b[0;34m(\u001b[0m\u001b[0;34m\"Interrupted by user\"\u001b[0m\u001b[0;34m)\u001b[0m \u001b[0;32mfrom\u001b[0m \u001b[0;32mNone\u001b[0m\u001b[0;34m\u001b[0m\u001b[0;34m\u001b[0m\u001b[0m\n\u001b[0m\u001b[1;32m    905\u001b[0m             \u001b[0;32mexcept\u001b[0m \u001b[0mException\u001b[0m \u001b[0;32mas\u001b[0m \u001b[0me\u001b[0m\u001b[0;34m:\u001b[0m\u001b[0;34m\u001b[0m\u001b[0;34m\u001b[0m\u001b[0m\n\u001b[1;32m    906\u001b[0m                 \u001b[0mself\u001b[0m\u001b[0;34m.\u001b[0m\u001b[0mlog\u001b[0m\u001b[0;34m.\u001b[0m\u001b[0mwarning\u001b[0m\u001b[0;34m(\u001b[0m\u001b[0;34m\"Invalid Message:\"\u001b[0m\u001b[0;34m,\u001b[0m \u001b[0mexc_info\u001b[0m\u001b[0;34m=\u001b[0m\u001b[0;32mTrue\u001b[0m\u001b[0;34m)\u001b[0m\u001b[0;34m\u001b[0m\u001b[0;34m\u001b[0m\u001b[0m\n",
            "\u001b[0;31mKeyboardInterrupt\u001b[0m: Interrupted by user"
          ]
        }
      ]
    },
    {
      "cell_type": "markdown",
      "source": [
        "야구게임"
      ],
      "metadata": {
        "id": "b2bqs8k7KhVM"
      }
    },
    {
      "cell_type": "code",
      "source": [
        "import random\n",
        "com_list = [1,2,3,4,5,6,7,8,9]\n",
        "com_num, usr_num = [], []\n",
        "\n",
        "def usr_fun() :\n",
        "  usr = input(\"3개의 숫자를 입력(1~9까지) ==> \")\n",
        "  for i in range(0,5,2) :\n",
        "    usr_num.append(int(usr[i]))\n",
        "\n",
        "# 컴퓨터 - 3개의 중복되지 않는 숫자 만들기\n",
        "for i in range(3) :\n",
        "  r = random.choice(com_list)\n",
        "  com_list.remove(r)\n",
        "  com_num.append(r)\n",
        "\n",
        "print(\"** 야구 게임 **\")\n",
        "#스트라이크 및 볼 판정 --------------------------\n",
        "strike, ball = 0, 0\n",
        "while True :\n",
        "  usr_num.clear()\n",
        "  usr_fun()\n",
        "  for i in range(3) :\n",
        "    if com_num[i] == usr_num[i] :\n",
        "      strike = strike + 1\n",
        "    elif usr_num[i] in com_num :\n",
        "      ball = ball + 1\n",
        "  print(strike, \"스트라이크\", \":\", ball,\"볼\")\n",
        "  if strike == 3 :\n",
        "    print(\"축하합니다.\")\n",
        "    break\n",
        "  strike, ball = 0, 0"
      ],
      "metadata": {
        "colab": {
          "base_uri": "https://localhost:8080/"
        },
        "id": "aNac0OsPKiL8",
        "outputId": "26aef6b3-1099-4050-edc6-e9c7785b7222"
      },
      "execution_count": null,
      "outputs": [
        {
          "output_type": "stream",
          "name": "stdout",
          "text": [
            "** 야구 게임 **\n",
            "3개의 숫자를 입력(1~9까지) ==> 1 2 3\n",
            "1 스트라이크 : 1 볼\n"
          ]
        }
      ]
    }
  ]
}