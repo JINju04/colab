{
  "nbformat": 4,
  "nbformat_minor": 0,
  "metadata": {
    "colab": {
      "provenance": [],
      "collapsed_sections": [],
      "authorship_tag": "ABX9TyOYU0H6vD2WhVmWgq1r3xvG",
      "include_colab_link": true
    },
    "kernelspec": {
      "name": "python3",
      "display_name": "Python 3"
    },
    "language_info": {
      "name": "python"
    }
  },
  "cells": [
    {
      "cell_type": "markdown",
      "metadata": {
        "id": "view-in-github",
        "colab_type": "text"
      },
      "source": [
        "<a href=\"https://colab.research.google.com/github/JINju04/colab/blob/main/Lession7.ipynb\" target=\"_parent\"><img src=\"https://colab.research.google.com/assets/colab-badge.svg\" alt=\"Open In Colab\"/></a>"
      ]
    },
    {
      "cell_type": "markdown",
      "source": [
        "형성평가 오늘의 명언 출력하기"
      ],
      "metadata": {
        "id": "q5YaEBUzsXSZ"
      }
    },
    {
      "cell_type": "code",
      "execution_count": 4,
      "metadata": {
        "colab": {
          "base_uri": "https://localhost:8080/"
        },
        "id": "sMSx_r7csTBq",
        "outputId": "4e68f4c4-4eb9-4e67-f02d-119e89d0fa10"
      },
      "outputs": [
        {
          "output_type": "stream",
          "name": "stdout",
          "text": [
            "오늘의 명언 ==> 행복한 삶을 살기위해 필요한 것은 거의 없다.\n"
          ]
        }
      ],
      "source": [
        " import random\n",
        "\n",
        " wiseSay = [\"삶이 있는 한 희망은 있다.\",\n",
        "            \"언제나 현재에 집중할 수 있다면 행복할 것이다.\",\n",
        "            \"신은 용기있는 자를 결코 버리지 않는다.\",\n",
        "            \"피할 수 없으면 즐겨라.\",\n",
        "            \"행복한 삶을 살기위해 필요한 것은 거의 없다.\",\n",
        "            \"내일은 내일의 태양이 뜬다.\",\n",
        "            \"행복은 습관이다. 그것을 몸에 지니라.\",\n",
        "            \"1퍼센트의 가능성, 그것이 나의 길이다.\"]\n",
        "today = random.randint(0, len(wiseSay)-1)\n",
        "print(\"오늘의 명언 ==>\", wiseSay[today])"
      ]
    },
    {
      "cell_type": "markdown",
      "source": [
        "2차원 리스트"
      ],
      "metadata": {
        "id": "KxQEzAZq5CDd"
      }
    },
    {
      "cell_type": "code",
      "source": [
        "numList2 = [[1,2,3,4],\n",
        "            [5,6,7,8],\n",
        "            [9,10,11,12]]\n",
        "\n",
        "for i in range(0, 3) : \n",
        "    for k in range(0,4) : \n",
        "        print(\" \", numList2[i][k], end='')\n",
        "    print(\"\")"
      ],
      "metadata": {
        "colab": {
          "base_uri": "https://localhost:8080/"
        },
        "id": "rSk39toD5CX1",
        "outputId": "206c4bc5-7b66-4ca5-a314-c6c9bf65559e"
      },
      "execution_count": 7,
      "outputs": [
        {
          "output_type": "stream",
          "name": "stdout",
          "text": [
            "  1  2  3  4\n",
            "  5  6  7  8\n",
            "  9  10  11  12\n"
          ]
        }
      ]
    },
    {
      "cell_type": "markdown",
      "source": [
        "형성평가 심사위원 점수 결과 구하기"
      ],
      "metadata": {
        "id": "noBPzWGP8z3T"
      }
    },
    {
      "cell_type": "code",
      "source": [
        "print(\"홍길동 선수 경기 끝났습니다~~ 짝짝짝\")\n",
        "\n",
        "score = []\n",
        "for i in range(5) :\n",
        "  jumsu = int(input(\"평균 점수 ==> \"))\n",
        "  score.append(jumsu)\n",
        "\n",
        "hap = 0\n",
        "for i in range(5) :\n",
        "    hap += score[i]\n",
        "\n",
        "avg = hap / 5\n",
        "print(\"심사위원 평균 점수 : \", avg)"
      ],
      "metadata": {
        "colab": {
          "base_uri": "https://localhost:8080/"
        },
        "id": "4GiNI9yO82rr",
        "outputId": "04af9cec-77fe-4cc5-c17f-ab3cfdcc2b5f"
      },
      "execution_count": 8,
      "outputs": [
        {
          "output_type": "stream",
          "name": "stdout",
          "text": [
            "홍길동 선수 경기 끝났습니다~~ 짝짝짝\n",
            "평균 점수 ==> 80\n",
            "평균 점수 ==> 45\n",
            "평균 점수 ==> 90\n",
            "평균 점수 ==> 78\n",
            "평균 점수 ==> 100\n",
            "심사위원 평균 점수 :  78.6\n"
          ]
        }
      ]
    },
    {
      "cell_type": "markdown",
      "source": [
        "형성평가"
      ],
      "metadata": {
        "id": "DHZhFahqBbSK"
      }
    },
    {
      "cell_type": "code",
      "source": [
        "toss = []\n",
        "\n",
        "for i in range(10000) :\n",
        "  comA = random.choice([\"가위\", \"바위\", \"보\"])\n",
        "  comB = random.choice([\"가위\", \"바위\", \"보\"])\n",
        "\n",
        "  if (comA == comB) :\n",
        "    toss.append(\"비김\")\n",
        "  elif (comA == \"가위\") and (comB == \"보\") or \\\n",
        "       (comA == \"바위\") and (comB == \"가위\") or \\\n",
        "       (comA == \"보\") and (comB == \"바위\") :\n",
        "      toss.append(\"A\")\n",
        "  else :\n",
        "    toss.append(\"B\")\n",
        "  #print(comA, comB, toss[i])\n",
        "\n",
        "aWin = toss.count(\"A\")\n",
        "bWin = toss.count(\"B\")"
      ],
      "metadata": {
        "id": "ShBHe5B_BclW"
      },
      "execution_count": 10,
      "outputs": []
    },
    {
      "cell_type": "markdown",
      "source": [
        "형성평가 가수 정보를 딕셔너리에 저장하고 출력하기"
      ],
      "metadata": {
        "id": "vEP8i3snM67O"
      }
    },
    {
      "cell_type": "code",
      "source": [
        "singer = {}\n",
        "singer['이름'] = '트와이스'\n",
        "singer['구성원수'] = 9\n",
        "singer['데뷰'] = '서바이벌 식스틴'\n",
        "singer['대표곡'] = 'CRY FOR ME'\n",
        "\n",
        "for K in singer,keys() :\n",
        "  print(K, \"==>\", singer[K])"
      ],
      "metadata": {
        "colab": {
          "base_uri": "https://localhost:8080/",
          "height": 229
        },
        "id": "ns4MrhtgNAcH",
        "outputId": "33293c03-2a02-423e-bd0b-dbd3c07d30c0"
      },
      "execution_count": 11,
      "outputs": [
        {
          "output_type": "error",
          "ename": "NameError",
          "evalue": "ignored",
          "traceback": [
            "\u001b[0;31m---------------------------------------------------------------------------\u001b[0m",
            "\u001b[0;31mNameError\u001b[0m                                 Traceback (most recent call last)",
            "\u001b[0;32m<ipython-input-11-6d2fc0b85a3e>\u001b[0m in \u001b[0;36m<module>\u001b[0;34m\u001b[0m\n\u001b[1;32m      5\u001b[0m \u001b[0msinger\u001b[0m\u001b[0;34m[\u001b[0m\u001b[0;34m'대표곡'\u001b[0m\u001b[0;34m]\u001b[0m \u001b[0;34m=\u001b[0m \u001b[0;34m'CRY FOR ME'\u001b[0m\u001b[0;34m\u001b[0m\u001b[0;34m\u001b[0m\u001b[0m\n\u001b[1;32m      6\u001b[0m \u001b[0;34m\u001b[0m\u001b[0m\n\u001b[0;32m----> 7\u001b[0;31m \u001b[0;32mfor\u001b[0m \u001b[0mK\u001b[0m \u001b[0;32min\u001b[0m \u001b[0msinger\u001b[0m\u001b[0;34m,\u001b[0m\u001b[0mkeys\u001b[0m\u001b[0;34m(\u001b[0m\u001b[0;34m)\u001b[0m \u001b[0;34m:\u001b[0m\u001b[0;34m\u001b[0m\u001b[0;34m\u001b[0m\u001b[0m\n\u001b[0m\u001b[1;32m      8\u001b[0m   \u001b[0mprint\u001b[0m\u001b[0;34m(\u001b[0m\u001b[0mK\u001b[0m\u001b[0;34m,\u001b[0m \u001b[0;34m\"==>\"\u001b[0m\u001b[0;34m,\u001b[0m \u001b[0msinger\u001b[0m\u001b[0;34m[\u001b[0m\u001b[0mK\u001b[0m\u001b[0;34m]\u001b[0m\u001b[0;34m)\u001b[0m\u001b[0;34m\u001b[0m\u001b[0;34m\u001b[0m\u001b[0m\n",
            "\u001b[0;31mNameError\u001b[0m: name 'keys' is not defined"
          ]
        }
      ]
    }
  ]
}