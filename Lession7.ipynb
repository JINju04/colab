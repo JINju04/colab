{
  "nbformat": 4,
  "nbformat_minor": 0,
  "metadata": {
    "colab": {
      "provenance": [],
      "collapsed_sections": [],
      "authorship_tag": "ABX9TyMvlxUL2Hzp2TVDPClyg/Bt",
      "include_colab_link": true
    },
    "kernelspec": {
      "name": "python3",
      "display_name": "Python 3"
    },
    "language_info": {
      "name": "python"
    }
  },
  "cells": [
    {
      "cell_type": "markdown",
      "metadata": {
        "id": "view-in-github",
        "colab_type": "text"
      },
      "source": [
        "<a href=\"https://colab.research.google.com/github/JINju04/colab/blob/main/Lession7.ipynb\" target=\"_parent\"><img src=\"https://colab.research.google.com/assets/colab-badge.svg\" alt=\"Open In Colab\"/></a>"
      ]
    },
    {
      "cell_type": "markdown",
      "source": [
        "형성평가 오늘의 명언 출력하기"
      ],
      "metadata": {
        "id": "q5YaEBUzsXSZ"
      }
    },
    {
      "cell_type": "code",
      "execution_count": null,
      "metadata": {
        "colab": {
          "base_uri": "https://localhost:8080/"
        },
        "id": "sMSx_r7csTBq",
        "outputId": "4e68f4c4-4eb9-4e67-f02d-119e89d0fa10"
      },
      "outputs": [
        {
          "output_type": "stream",
          "name": "stdout",
          "text": [
            "오늘의 명언 ==> 행복한 삶을 살기위해 필요한 것은 거의 없다.\n"
          ]
        }
      ],
      "source": [
        " import random\n",
        "\n",
        " wiseSay = [\"삶이 있는 한 희망은 있다.\",\n",
        "            \"언제나 현재에 집중할 수 있다면 행복할 것이다.\",\n",
        "            \"신은 용기있는 자를 결코 버리지 않는다.\",\n",
        "            \"피할 수 없으면 즐겨라.\",\n",
        "            \"행복한 삶을 살기위해 필요한 것은 거의 없다.\",\n",
        "            \"내일은 내일의 태양이 뜬다.\",\n",
        "            \"행복은 습관이다. 그것을 몸에 지니라.\",\n",
        "            \"1퍼센트의 가능성, 그것이 나의 길이다.\"]\n",
        "today = random.randint(0, len(wiseSay)-1)\n",
        "print(\"오늘의 명언 ==>\", wiseSay[today])"
      ]
    },
    {
      "cell_type": "markdown",
      "source": [
        "2차원 리스트"
      ],
      "metadata": {
        "id": "KxQEzAZq5CDd"
      }
    },
    {
      "cell_type": "code",
      "source": [
        "numList2 = [[1,2,3,4],\n",
        "            [5,6,7,8],\n",
        "            [9,10,11,12]]\n",
        "\n",
        "for i in range(0, 3) : \n",
        "    for k in range(0,4) : \n",
        "        print(\" \", numList2[i][k], end='')\n",
        "    print(\"\")"
      ],
      "metadata": {
        "colab": {
          "base_uri": "https://localhost:8080/"
        },
        "id": "rSk39toD5CX1",
        "outputId": "206c4bc5-7b66-4ca5-a314-c6c9bf65559e"
      },
      "execution_count": null,
      "outputs": [
        {
          "output_type": "stream",
          "name": "stdout",
          "text": [
            "  1  2  3  4\n",
            "  5  6  7  8\n",
            "  9  10  11  12\n"
          ]
        }
      ]
    },
    {
      "cell_type": "markdown",
      "source": [
        "형성평가 심사위원 점수 결과 구하기"
      ],
      "metadata": {
        "id": "noBPzWGP8z3T"
      }
    },
    {
      "cell_type": "code",
      "source": [
        "print(\"홍길동 선수 경기 끝났습니다~~ 짝짝짝\")\n",
        "\n",
        "score = []\n",
        "for i in range(5) :\n",
        "  jumsu = int(input(\"평균 점수 ==> \"))\n",
        "  score.append(jumsu)\n",
        "\n",
        "hap = 0\n",
        "for i in range(5) :\n",
        "    hap += score[i]\n",
        "\n",
        "avg = hap / 5\n",
        "print(\"심사위원 평균 점수 : \", avg)"
      ],
      "metadata": {
        "colab": {
          "base_uri": "https://localhost:8080/"
        },
        "id": "4GiNI9yO82rr",
        "outputId": "04af9cec-77fe-4cc5-c17f-ab3cfdcc2b5f"
      },
      "execution_count": null,
      "outputs": [
        {
          "output_type": "stream",
          "name": "stdout",
          "text": [
            "홍길동 선수 경기 끝났습니다~~ 짝짝짝\n",
            "평균 점수 ==> 80\n",
            "평균 점수 ==> 45\n",
            "평균 점수 ==> 90\n",
            "평균 점수 ==> 78\n",
            "평균 점수 ==> 100\n",
            "심사위원 평균 점수 :  78.6\n"
          ]
        }
      ]
    },
    {
      "cell_type": "markdown",
      "source": [
        "형성평가"
      ],
      "metadata": {
        "id": "DHZhFahqBbSK"
      }
    },
    {
      "cell_type": "code",
      "source": [
        "toss = []\n",
        "\n",
        "for i in range(10000) :\n",
        "  comA = random.choice([\"가위\", \"바위\", \"보\"])\n",
        "  comB = random.choice([\"가위\", \"바위\", \"보\"])\n",
        "\n",
        "  if (comA == comB) :\n",
        "    toss.append(\"비김\")\n",
        "  elif (comA == \"가위\") and (comB == \"보\") or \\\n",
        "       (comA == \"바위\") and (comB == \"가위\") or \\\n",
        "       (comA == \"보\") and (comB == \"바위\") :\n",
        "      toss.append(\"A\")\n",
        "  else :\n",
        "    toss.append(\"B\")\n",
        "  #print(comA, comB, toss[i])\n",
        "\n",
        "aWin = toss.count(\"A\")\n",
        "bWin = toss.count(\"B\")"
      ],
      "metadata": {
        "id": "ShBHe5B_BclW"
      },
      "execution_count": null,
      "outputs": []
    },
    {
      "cell_type": "markdown",
      "source": [
        "형성평가 가수 정보를 딕셔너리에 저장하고 출력하기"
      ],
      "metadata": {
        "id": "vEP8i3snM67O"
      }
    },
    {
      "cell_type": "code",
      "source": [
        "singer = {}\n",
        "singer['이름'] = '트와이스'\n",
        "singer['구성원수'] = 9\n",
        "singer['데뷰'] = '서바이벌 식스틴'\n",
        "singer['대표곡'] = 'CRY FOR ME'\n",
        "\n",
        "for K in singer,keys() :\n",
        "  print(K, \"==>\", singer[K])"
      ],
      "metadata": {
        "colab": {
          "base_uri": "https://localhost:8080/",
          "height": 227
        },
        "id": "ns4MrhtgNAcH",
        "outputId": "08b54eb4-7c4f-4a4e-f8cf-27cd366a3a2f"
      },
      "execution_count": 1,
      "outputs": [
        {
          "output_type": "error",
          "ename": "NameError",
          "evalue": "ignored",
          "traceback": [
            "\u001b[0;31m---------------------------------------------------------------------------\u001b[0m",
            "\u001b[0;31mNameError\u001b[0m                                 Traceback (most recent call last)",
            "\u001b[0;32m<ipython-input-1-6d2fc0b85a3e>\u001b[0m in \u001b[0;36m<module>\u001b[0;34m\u001b[0m\n\u001b[1;32m      5\u001b[0m \u001b[0msinger\u001b[0m\u001b[0;34m[\u001b[0m\u001b[0;34m'대표곡'\u001b[0m\u001b[0;34m]\u001b[0m \u001b[0;34m=\u001b[0m \u001b[0;34m'CRY FOR ME'\u001b[0m\u001b[0;34m\u001b[0m\u001b[0;34m\u001b[0m\u001b[0m\n\u001b[1;32m      6\u001b[0m \u001b[0;34m\u001b[0m\u001b[0m\n\u001b[0;32m----> 7\u001b[0;31m \u001b[0;32mfor\u001b[0m \u001b[0mK\u001b[0m \u001b[0;32min\u001b[0m \u001b[0msinger\u001b[0m\u001b[0;34m,\u001b[0m\u001b[0mkeys\u001b[0m\u001b[0;34m(\u001b[0m\u001b[0;34m)\u001b[0m \u001b[0;34m:\u001b[0m\u001b[0;34m\u001b[0m\u001b[0;34m\u001b[0m\u001b[0m\n\u001b[0m\u001b[1;32m      8\u001b[0m   \u001b[0mprint\u001b[0m\u001b[0;34m(\u001b[0m\u001b[0mK\u001b[0m\u001b[0;34m,\u001b[0m \u001b[0;34m\"==>\"\u001b[0m\u001b[0;34m,\u001b[0m \u001b[0msinger\u001b[0m\u001b[0;34m[\u001b[0m\u001b[0mK\u001b[0m\u001b[0;34m]\u001b[0m\u001b[0;34m)\u001b[0m\u001b[0;34m\u001b[0m\u001b[0;34m\u001b[0m\u001b[0m\n",
            "\u001b[0;31mNameError\u001b[0m: name 'keys' is not defined"
          ]
        }
      ]
    },
    {
      "cell_type": "markdown",
      "source": [
        "7장"
      ],
      "metadata": {
        "id": "oXtSG2tiII48"
      }
    },
    {
      "cell_type": "code",
      "source": [
        "store = {}\n",
        "print(\"*** 물품과 재고량 입력 ***\")\n",
        "while True :\n",
        "  item = input(\"입력 물품 ==>\")\n",
        "  if item == \"z\" :\n",
        "    break\n",
        "  count = int(input(\"재고량 ==>\"))\n",
        "  store[item] = count\n",
        "\n",
        "print(\"*** 물품의 재고량 확인\")\n",
        "while True :\n",
        "  item = input(\"찾을 물품 ==>\")\n",
        "  if item == \"\" :\n",
        "     break\n",
        "  if item in store :\n",
        "    print(store[item], \"개 남았어요\")\n",
        "  else :\n",
        "    print(\"그 물품은 없어요.\")"
      ],
      "metadata": {
        "colab": {
          "base_uri": "https://localhost:8080/",
          "height": 523
        },
        "id": "s89-U-sfIKWk",
        "outputId": "42ce9f9a-0471-4499-d03f-00ca966d9eb4"
      },
      "execution_count": 6,
      "outputs": [
        {
          "name": "stdout",
          "output_type": "stream",
          "text": [
            "*** 물품과 재고량 입력 ***\n",
            "입력 물품 ==>꼬북침\n",
            "재고량 ==>15\n",
            "입력 물품 ==>삼각김밥\n",
            "재고량 ==>80\n",
            "입력 물품 ==>꼬북침\n",
            "재고량 ==>14\n"
          ]
        },
        {
          "output_type": "error",
          "ename": "KeyboardInterrupt",
          "evalue": "ignored",
          "traceback": [
            "\u001b[0;31m---------------------------------------------------------------------------\u001b[0m",
            "\u001b[0;31mKeyboardInterrupt\u001b[0m                         Traceback (most recent call last)",
            "\u001b[0;32m<ipython-input-6-a543421ec817>\u001b[0m in \u001b[0;36m<module>\u001b[0;34m\u001b[0m\n\u001b[1;32m      2\u001b[0m \u001b[0mprint\u001b[0m\u001b[0;34m(\u001b[0m\u001b[0;34m\"*** 물품과 재고량 입력 ***\"\u001b[0m\u001b[0;34m)\u001b[0m\u001b[0;34m\u001b[0m\u001b[0;34m\u001b[0m\u001b[0m\n\u001b[1;32m      3\u001b[0m \u001b[0;32mwhile\u001b[0m \u001b[0;32mTrue\u001b[0m \u001b[0;34m:\u001b[0m\u001b[0;34m\u001b[0m\u001b[0;34m\u001b[0m\u001b[0m\n\u001b[0;32m----> 4\u001b[0;31m   \u001b[0mitem\u001b[0m \u001b[0;34m=\u001b[0m \u001b[0minput\u001b[0m\u001b[0;34m(\u001b[0m\u001b[0;34m\"입력 물품 ==>\"\u001b[0m\u001b[0;34m)\u001b[0m\u001b[0;34m\u001b[0m\u001b[0;34m\u001b[0m\u001b[0m\n\u001b[0m\u001b[1;32m      5\u001b[0m   \u001b[0;32mif\u001b[0m \u001b[0mitem\u001b[0m \u001b[0;34m==\u001b[0m \u001b[0;34m\"z\"\u001b[0m \u001b[0;34m:\u001b[0m\u001b[0;34m\u001b[0m\u001b[0;34m\u001b[0m\u001b[0m\n\u001b[1;32m      6\u001b[0m     \u001b[0;32mbreak\u001b[0m\u001b[0;34m\u001b[0m\u001b[0;34m\u001b[0m\u001b[0m\n",
            "\u001b[0;32m/usr/local/lib/python3.7/dist-packages/ipykernel/kernelbase.py\u001b[0m in \u001b[0;36mraw_input\u001b[0;34m(self, prompt)\u001b[0m\n\u001b[1;32m    861\u001b[0m             \u001b[0mself\u001b[0m\u001b[0;34m.\u001b[0m\u001b[0m_parent_ident\u001b[0m\u001b[0;34m,\u001b[0m\u001b[0;34m\u001b[0m\u001b[0;34m\u001b[0m\u001b[0m\n\u001b[1;32m    862\u001b[0m             \u001b[0mself\u001b[0m\u001b[0;34m.\u001b[0m\u001b[0m_parent_header\u001b[0m\u001b[0;34m,\u001b[0m\u001b[0;34m\u001b[0m\u001b[0;34m\u001b[0m\u001b[0m\n\u001b[0;32m--> 863\u001b[0;31m             \u001b[0mpassword\u001b[0m\u001b[0;34m=\u001b[0m\u001b[0;32mFalse\u001b[0m\u001b[0;34m,\u001b[0m\u001b[0;34m\u001b[0m\u001b[0;34m\u001b[0m\u001b[0m\n\u001b[0m\u001b[1;32m    864\u001b[0m         )\n\u001b[1;32m    865\u001b[0m \u001b[0;34m\u001b[0m\u001b[0m\n",
            "\u001b[0;32m/usr/local/lib/python3.7/dist-packages/ipykernel/kernelbase.py\u001b[0m in \u001b[0;36m_input_request\u001b[0;34m(self, prompt, ident, parent, password)\u001b[0m\n\u001b[1;32m    902\u001b[0m             \u001b[0;32mexcept\u001b[0m \u001b[0mKeyboardInterrupt\u001b[0m\u001b[0;34m:\u001b[0m\u001b[0;34m\u001b[0m\u001b[0;34m\u001b[0m\u001b[0m\n\u001b[1;32m    903\u001b[0m                 \u001b[0;31m# re-raise KeyboardInterrupt, to truncate traceback\u001b[0m\u001b[0;34m\u001b[0m\u001b[0;34m\u001b[0m\u001b[0;34m\u001b[0m\u001b[0m\n\u001b[0;32m--> 904\u001b[0;31m                 \u001b[0;32mraise\u001b[0m \u001b[0mKeyboardInterrupt\u001b[0m\u001b[0;34m(\u001b[0m\u001b[0;34m\"Interrupted by user\"\u001b[0m\u001b[0;34m)\u001b[0m \u001b[0;32mfrom\u001b[0m \u001b[0;32mNone\u001b[0m\u001b[0;34m\u001b[0m\u001b[0;34m\u001b[0m\u001b[0m\n\u001b[0m\u001b[1;32m    905\u001b[0m             \u001b[0;32mexcept\u001b[0m \u001b[0mException\u001b[0m \u001b[0;32mas\u001b[0m \u001b[0me\u001b[0m\u001b[0;34m:\u001b[0m\u001b[0;34m\u001b[0m\u001b[0;34m\u001b[0m\u001b[0m\n\u001b[1;32m    906\u001b[0m                 \u001b[0mself\u001b[0m\u001b[0;34m.\u001b[0m\u001b[0mlog\u001b[0m\u001b[0;34m.\u001b[0m\u001b[0mwarning\u001b[0m\u001b[0;34m(\u001b[0m\u001b[0;34m\"Invalid Message:\"\u001b[0m\u001b[0;34m,\u001b[0m \u001b[0mexc_info\u001b[0m\u001b[0;34m=\u001b[0m\u001b[0;32mTrue\u001b[0m\u001b[0;34m)\u001b[0m\u001b[0;34m\u001b[0m\u001b[0;34m\u001b[0m\u001b[0m\n",
            "\u001b[0;31mKeyboardInterrupt\u001b[0m: Interrupted by user"
          ]
        }
      ]
    },
    {
      "cell_type": "markdown",
      "source": [
        "100마리 거부기"
      ],
      "metadata": {
        "id": "VDMzY6iKNN38"
      }
    },
    {
      "cell_type": "code",
      "source": [
        "!pip3 install ColabTurtle\n",
        "import ColabTurtle.Turtle as turtle\n",
        "import random\n",
        "myT = []\n",
        "shapeList = [\"cirole\", \"turtle\"]\n",
        "colorList = [\"red\", \"blue\", \"yellow\", \"black\", \"green\"]\n",
        "turtle.initializeTurtle()\n",
        "for i in range(0,100) :\n",
        "  color = random.choice(colorList)\n",
        "  shap = random.choice(shapeList)\n",
        "  x = random.randint(0, 750)\n",
        "  y = random.randint(0, 550)\n",
        "  myturtle = turtle.turtle_shape = shap\n",
        "  tup = (myturtle, color, x, y)\n",
        "  myT.append(tup)\n",
        "\n",
        "for i in myT:\n",
        "  turtle.color(i[1])\n",
        "  turtle.goto(i[2], i[3])\n",
        "  turtle.home()\n",
        "#!pip(turtle)"
      ],
      "metadata": {
        "colab": {
          "base_uri": "https://localhost:8080/",
          "height": 556
        },
        "id": "AGNrSu13NPGO",
        "outputId": "4deec828-a238-49b5-d43a-abf52885992e"
      },
      "execution_count": null,
      "outputs": [
        {
          "output_type": "stream",
          "name": "stdout",
          "text": [
            "Looking in indexes: https://pypi.org/simple, https://us-python.pkg.dev/colab-wheels/public/simple/\n",
            "Requirement already satisfied: ColabTurtle in /usr/local/lib/python3.7/dist-packages (2.1.0)\n"
          ]
        },
        {
          "output_type": "display_data",
          "data": {
            "text/plain": [
              "<IPython.core.display.HTML object>"
            ],
            "text/html": [
              "\n",
              "      <svg width=\"800\" height=\"500\">\n",
              "        <rect width=\"100%\" height=\"100%\" fill=\"black\"/>\n",
              "        <line x1=\"400\" y1=\"250\" x2=\"197\" y2=\"381\" stroke-linecap=\"round\" style=\"stroke:yellow;stroke-width:4\"/><line x1=\"197\" y1=\"381\" x2=\"400\" y2=\"250\" stroke-linecap=\"round\" style=\"stroke:yellow;stroke-width:4\"/><line x1=\"400\" y1=\"250\" x2=\"528\" y2=\"234\" stroke-linecap=\"round\" style=\"stroke:red;stroke-width:4\"/><line x1=\"528\" y1=\"234\" x2=\"400\" y2=\"250\" stroke-linecap=\"round\" style=\"stroke:red;stroke-width:4\"/><line x1=\"400\" y1=\"250\" x2=\"629\" y2=\"72\" stroke-linecap=\"round\" style=\"stroke:green;stroke-width:4\"/><line x1=\"629\" y1=\"72\" x2=\"400\" y2=\"250\" stroke-linecap=\"round\" style=\"stroke:green;stroke-width:4\"/><line x1=\"400\" y1=\"250\" x2=\"450\" y2=\"470\" stroke-linecap=\"round\" style=\"stroke:red;stroke-width:4\"/><line x1=\"450\" y1=\"470\" x2=\"400\" y2=\"250\" stroke-linecap=\"round\" style=\"stroke:red;stroke-width:4\"/><line x1=\"400\" y1=\"250\" x2=\"279\" y2=\"355\" stroke-linecap=\"round\" style=\"stroke:yellow;stroke-width:4\"/><line x1=\"279\" y1=\"355\" x2=\"400\" y2=\"250\" stroke-linecap=\"round\" style=\"stroke:yellow;stroke-width:4\"/><line x1=\"400\" y1=\"250\" x2=\"271\" y2=\"439\" stroke-linecap=\"round\" style=\"stroke:red;stroke-width:4\"/><line x1=\"271\" y1=\"439\" x2=\"400\" y2=\"250\" stroke-linecap=\"round\" style=\"stroke:red;stroke-width:4\"/><line x1=\"400\" y1=\"250\" x2=\"201\" y2=\"190\" stroke-linecap=\"round\" style=\"stroke:blue;stroke-width:4\"/><line x1=\"201\" y1=\"190\" x2=\"400\" y2=\"250\" stroke-linecap=\"round\" style=\"stroke:blue;stroke-width:4\"/><line x1=\"400\" y1=\"250\" x2=\"692\" y2=\"324\" stroke-linecap=\"round\" style=\"stroke:green;stroke-width:4\"/><line x1=\"692\" y1=\"324\" x2=\"400\" y2=\"250\" stroke-linecap=\"round\" style=\"stroke:green;stroke-width:4\"/><line x1=\"400\" y1=\"250\" x2=\"336\" y2=\"530\" stroke-linecap=\"round\" style=\"stroke:green;stroke-width:4\"/><line x1=\"336\" y1=\"530\" x2=\"400\" y2=\"250\" stroke-linecap=\"round\" style=\"stroke:green;stroke-width:4\"/><line x1=\"400\" y1=\"250\" x2=\"140\" y2=\"435\" stroke-linecap=\"round\" style=\"stroke:black;stroke-width:4\"/><line x1=\"140\" y1=\"435\" x2=\"400\" y2=\"250\" stroke-linecap=\"round\" style=\"stroke:black;stroke-width:4\"/><line x1=\"400\" y1=\"250\" x2=\"25\" y2=\"160\" stroke-linecap=\"round\" style=\"stroke:red;stroke-width:4\"/><line x1=\"25\" y1=\"160\" x2=\"400\" y2=\"250\" stroke-linecap=\"round\" style=\"stroke:red;stroke-width:4\"/><line x1=\"400\" y1=\"250\" x2=\"431\" y2=\"351\" stroke-linecap=\"round\" style=\"stroke:green;stroke-width:4\"/><line x1=\"431\" y1=\"351\" x2=\"400\" y2=\"250\" stroke-linecap=\"round\" style=\"stroke:green;stroke-width:4\"/><line x1=\"400\" y1=\"250\" x2=\"419\" y2=\"227\" stroke-linecap=\"round\" style=\"stroke:green;stroke-width:4\"/><line x1=\"419\" y1=\"227\" x2=\"400\" y2=\"250\" stroke-linecap=\"round\" style=\"stroke:green;stroke-width:4\"/><line x1=\"400\" y1=\"250\" x2=\"474\" y2=\"218\" stroke-linecap=\"round\" style=\"stroke:red;stroke-width:4\"/><line x1=\"474\" y1=\"218\" x2=\"400\" y2=\"250\" stroke-linecap=\"round\" style=\"stroke:red;stroke-width:4\"/><line x1=\"400\" y1=\"250\" x2=\"274\" y2=\"440\" stroke-linecap=\"round\" style=\"stroke:blue;stroke-width:4\"/><line x1=\"274\" y1=\"440\" x2=\"400\" y2=\"250\" stroke-linecap=\"round\" style=\"stroke:blue;stroke-width:4\"/><line x1=\"400\" y1=\"250\" x2=\"654\" y2=\"430\" stroke-linecap=\"round\" style=\"stroke:green;stroke-width:4\"/><line x1=\"654\" y1=\"430\" x2=\"400\" y2=\"250\" stroke-linecap=\"round\" style=\"stroke:green;stroke-width:4\"/><line x1=\"400\" y1=\"250\" x2=\"487\" y2=\"387\" stroke-linecap=\"round\" style=\"stroke:black;stroke-width:4\"/><line x1=\"487\" y1=\"387\" x2=\"400\" y2=\"250\" stroke-linecap=\"round\" style=\"stroke:black;stroke-width:4\"/><line x1=\"400\" y1=\"250\" x2=\"44\" y2=\"111\" stroke-linecap=\"round\" style=\"stroke:blue;stroke-width:4\"/><line x1=\"44\" y1=\"111\" x2=\"400\" y2=\"250\" stroke-linecap=\"round\" style=\"stroke:blue;stroke-width:4\"/>\n",
              "        <g visibility=visible transform=\"rotate(360,400,250) translate(382, 232)\">\n",
              "<path style=\" stroke:none;fill-rule:evenodd;fill:blue;fill-opacity:1;\" d=\"M 18.214844 0.632812 C 16.109375 1.800781 15.011719 4.074219 15.074219 7.132812 L 15.085938 7.652344 L 14.785156 7.496094 C 13.476562 6.824219 11.957031 6.671875 10.40625 7.066406 C 8.46875 7.550781 6.515625 9.15625 4.394531 11.992188 C 3.0625 13.777344 2.679688 14.636719 3.042969 15.027344 L 3.15625 15.152344 L 3.519531 15.152344 C 4.238281 15.152344 4.828125 14.886719 8.1875 13.039062 C 9.386719 12.378906 10.371094 11.839844 10.378906 11.839844 C 10.386719 11.839844 10.355469 11.929688 10.304688 12.035156 C 9.832031 13.09375 9.257812 14.820312 8.96875 16.078125 C 7.914062 20.652344 8.617188 24.53125 11.070312 27.660156 C 11.351562 28.015625 11.363281 27.914062 10.972656 28.382812 C 8.925781 30.84375 7.945312 33.28125 8.238281 35.1875 C 8.289062 35.527344 8.28125 35.523438 8.917969 35.523438 C 10.941406 35.523438 13.074219 34.207031 15.136719 31.6875 C 15.359375 31.417969 15.328125 31.425781 15.5625 31.574219 C 16.292969 32.042969 18.023438 32.964844 18.175781 32.964844 C 18.335938 32.964844 19.941406 32.210938 20.828125 31.71875 C 20.996094 31.625 21.136719 31.554688 21.136719 31.558594 C 21.203125 31.664062 21.898438 32.414062 22.222656 32.730469 C 23.835938 34.300781 25.5625 35.132812 27.582031 35.300781 C 27.90625 35.328125 27.9375 35.308594 28.007812 34.984375 C 28.382812 33.242188 27.625 30.925781 25.863281 28.425781 L 25.542969 27.96875 L 25.699219 27.785156 C 28.945312 23.960938 29.132812 18.699219 26.257812 11.96875 L 26.207031 11.84375 L 27.945312 12.703125 C 31.53125 14.476562 32.316406 14.800781 33.03125 14.800781 C 33.976562 14.800781 33.78125 13.9375 32.472656 12.292969 C 28.519531 7.355469 25.394531 5.925781 21.921875 7.472656 L 21.558594 7.636719 L 21.578125 7.542969 C 21.699219 6.992188 21.761719 5.742188 21.699219 5.164062 C 21.496094 3.296875 20.664062 1.964844 19.003906 0.855469 C 18.480469 0.503906 18.457031 0.5 18.214844 0.632812\"/>\n",
              "</g>\n",
              "      </svg>\n",
              "    "
            ]
          },
          "metadata": {}
        }
      ]
    },
    {
      "cell_type": "code",
      "source": [],
      "metadata": {
        "id": "_WJLH5aUXdBO"
      },
      "execution_count": null,
      "outputs": []
    }
  ]
}