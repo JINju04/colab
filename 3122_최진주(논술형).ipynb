{
  "nbformat": 4,
  "nbformat_minor": 0,
  "metadata": {
    "colab": {
      "name": "3122-최진주(논술형).ipynb",
      "provenance": [],
      "authorship_tag": "ABX9TyP8t17SmGbiZZqG5ukopE61",
      "include_colab_link": true
    },
    "kernelspec": {
      "name": "python3",
      "display_name": "Python 3"
    },
    "language_info": {
      "name": "python"
    }
  },
  "cells": [
    {
      "cell_type": "markdown",
      "metadata": {
        "id": "view-in-github",
        "colab_type": "text"
      },
      "source": [
        "<a href=\"https://colab.research.google.com/github/JINju04/colab/blob/main/3122_%EC%B5%9C%EC%A7%84%EC%A3%BC(%EB%85%BC%EC%88%A0%ED%98%95).ipynb\" target=\"_parent\"><img src=\"https://colab.research.google.com/assets/colab-badge.svg\" alt=\"Open In Colab\"/></a>"
      ]
    },
    {
      "cell_type": "markdown",
      "source": [
        "2022학년도 응용프로그래밍 개발 - 논술형\n",
        "\n",
        "컴퓨터과 3학년 1반 22번 최진주"
      ],
      "metadata": {
        "id": "uLNVfCLM60XK"
      }
    },
    {
      "cell_type": "code",
      "source": [
        "num1 = int(input(\"첫번째 숫자를 입력하시오 : \"))\n",
        "num2 = int(input(\"두번째 숫자를 입력하시오 : \"))\n",
        "\n",
        "result1 = num1 + num2\n",
        "result2 = num1 - num2\n",
        "result3 = num1 * num2\n",
        "result4 = num1 / num2\n",
        "result5 = num1 // num2\n",
        "result6 = num1 % num2\n",
        "result7 = num1 ** num2\n",
        "\n",
        "print(num1, \"+\", num2, \"=\", result1)\n",
        "print(num1, \"-\", num2, \"=\", result2)\n",
        "print(num1, \"*\", num2, \"=\", result3)\n",
        "print(num1, \"/\", num2, \"=\", result4)\n",
        "print(num1, \"//\", num2, \"=\", result5)\n",
        "print(num1, \"%\", num2, \"=\", result6)  \n",
        "print(num1, \"**\", num2, \"=\", result7)"
      ],
      "metadata": {
        "colab": {
          "base_uri": "https://localhost:8080/"
        },
        "id": "Tv-S7PT08CcS",
        "outputId": "1696bd80-5705-458f-c516-925eae4abd1d"
      },
      "execution_count": 2,
      "outputs": [
        {
          "output_type": "stream",
          "name": "stdout",
          "text": [
            "첫번째 숫자를 입력하시오 : 10\n",
            "두번째 숫자를 입력하시오 : 5\n",
            "10 + 5 = 15\n",
            "10 - 5 = 5\n",
            "10 * 5 = 50\n",
            "10 / 5 = 2.0\n",
            "10 // 5 = 2\n",
            "10 % 5 = 0\n",
            "10 ** 5 = 100000\n"
          ]
        }
      ]
    }
  ]
}