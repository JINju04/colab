{
  "nbformat": 4,
  "nbformat_minor": 0,
  "metadata": {
    "colab": {
      "name": "myFirstPython-PL.ipynb",
      "provenance": [],
      "authorship_tag": "ABX9TyOTtHb4cXk7tnXcs+NP/2jN",
      "include_colab_link": true
    },
    "kernelspec": {
      "name": "python3",
      "display_name": "Python 3"
    },
    "language_info": {
      "name": "python"
    }
  },
  "cells": [
    {
      "cell_type": "markdown",
      "metadata": {
        "id": "view-in-github",
        "colab_type": "text"
      },
      "source": [
        "<a href=\"https://colab.research.google.com/github/JINju04/colab/blob/main/myFirstPython_PL.ipynb\" target=\"_parent\"><img src=\"https://colab.research.google.com/assets/colab-badge.svg\" alt=\"Open In Colab\"/></a>"
      ]
    },
    {
      "cell_type": "code",
      "execution_count": 1,
      "metadata": {
        "colab": {
          "base_uri": "https://localhost:8080/",
          "height": 138
        },
        "id": "HGA5HPvJDNhL",
        "outputId": "89f052ac-1d3d-44f6-d8b9-f9ee7bb698a4"
      },
      "outputs": [
        {
          "output_type": "error",
          "ename": "SyntaxError",
          "evalue": "ignored",
          "traceback": [
            "\u001b[0;36m  File \u001b[0;32m\"<ipython-input-1-d833e907512e>\"\u001b[0;36m, line \u001b[0;32m1\u001b[0m\n\u001b[0;31m    나의 첫 파이썬 프로그래밍\u001b[0m\n\u001b[0m       ^\u001b[0m\n\u001b[0;31mSyntaxError\u001b[0m\u001b[0;31m:\u001b[0m invalid syntax\n"
          ]
        }
      ],
      "source": [
        ""
      ]
    },
    {
      "cell_type": "markdown",
      "source": [
        "\"컴퓨터과 3학년 1반 22번 최진주\""
      ],
      "metadata": {
        "id": "2tgbo21WD1Od"
      }
    },
    {
      "cell_type": "markdown",
      "source": [
        ""
      ],
      "metadata": {
        "id": "Y4EHboSIDvo9"
      }
    }
  ]
}